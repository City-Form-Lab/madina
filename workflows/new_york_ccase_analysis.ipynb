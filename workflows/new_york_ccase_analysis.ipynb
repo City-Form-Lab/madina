{
 "cells": [
  {
   "cell_type": "code",
   "execution_count": null,
   "metadata": {},
   "outputs": [],
   "source": [
    "import os\n",
    "os.environ['USE_PYGEOS'] = '0'\n",
    "import geopandas"
   ]
  },
  {
   "cell_type": "code",
   "execution_count": null,
   "metadata": {},
   "outputs": [],
   "source": [
    "scope = gpd.read_file(r\"C:\\Users\\abdul\\Dropbox (MIT)\\PhD Thesis\\Madina\\madina\\workflows\\Cities\\broadway_baseline\\Data\\NYC_network_broadway_buffer_existing.geojson\")\n",
    "scope_boundary = scope['geometry'].unary_union.convex_hull\n",
    "scope_boundary\n",
    "# data_layers = ['Amenities_PT_6538.geojson', 'Home_adj_PT_6538.geojson', 'Jobs_PT_6538.geojson', 'metro_updated_line_ent_st_2023-07-14-ALL-NYC.geojson', 'Parks_PT_6538.geojson', 'Schools_PT_6538.geojson']\n",
    "data_layers = [\n",
    "    'Amenities_PT_6538_distributed.geojson',\n",
    "    'Home_adj_PT_6538.geojson',\n",
    "    'Jobs_PT_6538_distributed.geojson',\n",
    "    'metro_updated_line_ent_st_2023-07-14-ALL-NYC.geojson',\n",
    "    'Parks_PT_6538_distributed.geojson', \n",
    "    'Schools_PT_6538.geojson'\n",
    "]\n",
    "data_folder = 'Cities\\\\NYC\\Data\\\\'\n",
    "output_folder = 'Cities\\\\broadway_baseline\\\\Data\\\\'\n",
    "for layer in data_layers:\n",
    "    layer_gdf = gpd.read_file(data_folder + layer, engine='pyogrio')\n",
    "    layer_gdf = gpd.clip(layer_gdf, scope_boundary)\n",
    "    layer_gdf.to_file(output_folder + layer, driver=\"GeoJSON\", engine='pyogrio')  \n",
    "    print (layer)\n"
   ]
  },
  {
   "cell_type": "code",
   "execution_count": null,
   "metadata": {},
   "outputs": [],
   "source": [
    "broadway_parks = gpd.read_file(r\"C:\\Users\\abdul\\Dropbox (MIT)\\PhD Thesis\\Madina\\madina\\workflows\\Cities\\broadway_intervention_with_parks\\Data\\NYC_broadway_newparkpoints.geojson\", engine='pyogrio')\n",
    "other_parks = gpd.read_file(r\"C:\\Users\\abdul\\Dropbox (MIT)\\PhD Thesis\\Madina\\madina\\workflows\\Cities\\broadway_intervention_with_parks\\Data\\Parks_PT_6538_distributed.geojson\", engine='pyogrio')\n"
   ]
  },
  {
   "cell_type": "code",
   "execution_count": null,
   "metadata": {},
   "outputs": [],
   "source": [
    "broadway_parks.explore()"
   ]
  },
  {
   "cell_type": "code",
   "execution_count": null,
   "metadata": {},
   "outputs": [],
   "source": [
    "import pandas as pd\n",
    "all_parks = pd.concat([broadway_parks, other_parks])"
   ]
  },
  {
   "cell_type": "code",
   "execution_count": null,
   "metadata": {},
   "outputs": [],
   "source": [
    "all_parks[[\"geometry\", \"area_sqm\"]].to_file('Cities\\\\broadway_intervention_with_parks\\\\Data\\\\broadway_parks_with_city_parks.geojson', driver=\"GeoJSON\", engine='pyogrio')  "
   ]
  },
  {
   "cell_type": "code",
   "execution_count": null,
   "metadata": {},
   "outputs": [],
   "source": [
    "import os\n",
    "os.environ['USE_PYGEOS'] = '0'\n",
    "import geopandas as gpd\n",
    "import numpy as np\n",
    "\n",
    "scenario_gdf = []\n",
    "\n",
    "for scenario in ['broadway_baseline_10_flows_betweenness_record.geoJSON', 'broadway_intervention_10_flows_betweenness_record.geoJSON', 'broadway_intervention_with_parks_10_flows_betweenness_record.geoJSON']:\n",
    "    file_name = fr\"C:\\Users\\abdul\\Dropbox (MIT)\\PhD Thesis\\Madina\\Cities\\2023-10-11 NYC Broadway\\{scenario}\"\n",
    "    baseline = gpd.read_file(file_name, engine='pyogrio')\n",
    "    baseline[\"linear_prediction_wd_pm\"] = np.e**(2.926  + 0.088 * np.log(baseline['NYC_Jobs_Metro_Geometric'] + 1) + 0.320* np.log(baseline['NYC_Jobs_Amenities_Geometric'] + 1) + .242 * np.log(baseline['NYC_Amenities_Amenities_Geometric'] + 1) + .120* np.log(baseline['NYC_Amenities_Metro_Geometric'] + 1))\n",
    "    #baseline.to_file(file_name, driver=\"GeoJSON\", engine='pyogrio')  \n",
    "    #baseline.to_csv(file_name.replace('.geoJSON', '.csv'))\n",
    "    scenario_gdf.append(baseline)"
   ]
  },
  {
   "cell_type": "code",
   "execution_count": null,
   "metadata": {},
   "outputs": [],
   "source": [
    "broadway_network = gpd.read_file(r\"C:\\Users\\abdul\\Dropbox (MIT)\\PhD Thesis\\Madina\\Cities\\2023-10-11 NYC Broadway\\broadway_baseline\\Data\\NYC_network_broadway_buffer_existing.geojson\", engine='pyogrio')\n",
    "\n",
    "broadway_segments = broadway_network[\n",
    "    (broadway_network['A'] == 'True') | \n",
    "    (broadway_network['B'] == 'True') |\n",
    "    (broadway_network['C'] == 'True') |\n",
    "    (broadway_network['D'] == 'True') |\n",
    "    (broadway_network['E'] == 'True') |\n",
    "    (broadway_network['F'] == 'True') |\n",
    "    (broadway_network['G'] == 'True') |\n",
    "    (broadway_network['H'] == 'True') |\n",
    "    (broadway_network['I'] == 'True') |\n",
    "    (broadway_network['J'] == 'True') |\n",
    "    (broadway_network['K'] == 'True') |\n",
    "    (broadway_network['L'] == 'True') |\n",
    "    (broadway_network['M'] == 'True') |\n",
    "    (broadway_network['N'] == 'True') |\n",
    "    (broadway_network['O'] == 'True') |\n",
    "    (broadway_network['P'] == 'True') |\n",
    "    (broadway_network['Q'] == 'True') |\n",
    "    (broadway_network['R'] == 'True') \n",
    "    ]\n",
    "\n",
    "for idx in broadway_segments.index:\n",
    "    baseline.at[idx, 'broadway_75'] = baseline.at[idx, 'geometry'].length * 0.75\n",
    "\n",
    "broadway_network['broadway_75'] = baseline['broadway_75'].fillna(0)\n",
    "\n",
    "broadway_network.to_file(r'C:\\Users\\abdul\\Dropbox (MIT)\\PhD Thesis\\Madina\\Cities\\2023-10-11 NYC Broadway\\broadway_two_sides_kept_75\\Data\\NYC_network_broadway_two_sides_75.geojson', driver=\"GeoJSON\", engine='pyogrio')  \n"
   ]
  },
  {
   "cell_type": "code",
   "execution_count": null,
   "metadata": {},
   "outputs": [],
   "source": [
    "scenario = 'broadway_two_sides_kept_75_betweenness_record.geoJSON'\n",
    "file_name = fr\"C:\\Users\\abdul\\Dropbox (MIT)\\PhD Thesis\\Madina\\Cities\\2023-10-11 NYC Broadway\\{scenario}\"\n",
    "baseline = gpd.read_file(file_name, engine='pyogrio')\n",
    "baseline[\"linear_prediction_wd_pm\"] = np.e**(2.926  + 0.088 * np.log(baseline['NYC_Jobs_Metro_Geometric'] + 1) + 0.320* np.log(baseline['NYC_Jobs_Amenities_Geometric'] + 1) + .242 * np.log(baseline['NYC_Amenities_Amenities_Geometric'] + 1) + .120* np.log(baseline['NYC_Amenities_Metro_Geometric'] + 1))\n",
    "baseline.to_file(file_name, driver=\"GeoJSON\", engine='pyogrio')  \n",
    "baseline.to_csv(file_name.replace('.geoJSON', '.csv'))\n"
   ]
  }
 ],
 "metadata": {
  "kernelspec": {
   "display_name": "madina_dev",
   "language": "python",
   "name": "python3"
  },
  "language_info": {
   "codemirror_mode": {
    "name": "ipython",
    "version": 3
   },
   "file_extension": ".py",
   "mimetype": "text/x-python",
   "name": "python",
   "nbconvert_exporter": "python",
   "pygments_lexer": "ipython3",
   "version": "3.11.0"
  },
  "orig_nbformat": 4
 },
 "nbformat": 4,
 "nbformat_minor": 2
}
