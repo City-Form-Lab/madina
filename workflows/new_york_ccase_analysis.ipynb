{
 "cells": [
  {
   "cell_type": "code",
   "execution_count": 2,
   "metadata": {},
   "outputs": [],
   "source": [
    "import os\n",
    "os.environ['USE_PYGEOS'] = '0'\n",
    "import geopandas"
   ]
  },
  {
   "cell_type": "code",
   "execution_count": 6,
   "metadata": {},
   "outputs": [
    {
     "data": {
      "image/svg+xml": [
       "<svg xmlns=\"http://www.w3.org/2000/svg\" xmlns:xlink=\"http://www.w3.org/1999/xlink\" width=\"300\" height=\"300\" viewBox=\"299135.717593838 62131.861393839215 3804.2167408745154 5088.709066346746\" preserveAspectRatio=\"xMinYMin meet\"><g transform=\"matrix(1,0,0,-1,0,129352.43185402517)\"><path fill-rule=\"evenodd\" fill=\"#66cc99\" stroke=\"#555555\" stroke-width=\"33.92472710897831\" opacity=\"0.6\" d=\"M 301009.847599998,62320.3321000002 L 300984.38705766056,62321.31226370824 L 300769.4229400046,62330.855590028514 L 300743.33354833326,62333.99801788728 L 300592.1747106517,62360.89265311638 L 300480.506224191,62390.622509319874 L 300431.9372960534,62406.30197722069 L 300402.66978229495,62416.58625216087 L 300358.7256688779,62433.24204679586 L 300186.8947687132,62513.352910179645 L 300127.94540667813,62546.849599321526 L 300062.55638371053,62588.03415815399 L 300010.2604406959,62624.28271885855 L 300000.8736057114,62631.11291885968 L 299909.01971824537,62700.285963088434 L 299889.7406062201,62716.028536291094 L 299870.348812608,62732.37735357844 L 299863.4654878751,62738.30848322874 L 299571.164800003,63226.0150999986 L 299504.822499998,63357.2292999998 L 299490.135300003,63387.432500001 L 299483.654799998,63401.0190000013 L 299459.777599998,63453.1975000016 L 299447.325199999,63483.2600999996 L 299431.520900004,63522.5909999982 L 299406.9846,63591.8795000017 L 299402.5678,63606.4838999994 L 299386.543499999,63660.5810999982 L 299381.6501,63677.8812000006 L 299324.188299999,63909.4582000002 L 299368.38856702676,64495.26341020017 L 299387.04328690545,64641.02282160459 L 299423.84001524915,64928.53555295945 L 299435.20052788267,65012.00481309503 L 299498.053900003,65444.7523999996 L 299539.6372969176,65535.31299388619 L 299912.689400002,66313.7239000015 L 300325.188100003,66781.3586999997 L 300414.40327224834,66853.53505759628 L 300475.49753243016,66883.61232109834 L 300491.4737862575,66890.95290377081 L 300585.51810534246,66929.98247163609 L 300668.444499999,66958.6682999991 L 300690.4509207498,66965.56428579356 L 300706.019539014,66970.16303781672 L 300814.0704810672,66997.44390084909 L 300940.93951504456,67019.51286811417 L 301051.671499997,67030.1517999992 L 301216.6311610034,67032.09975402497 L 301263.4164055045,67029.50660333002 L 301332.5758256002,67023.14554943802 L 301361.07221498986,67019.6401766731 L 301399.803081344,67014.03994908309 L 301419.02867202205,67010.89953817926 L 301472.4623474784,67000.9004249278 L 301615.25544500747,66964.73912831604 L 301638.494836455,66957.50749529418 L 301665.45920440037,66948.62683630045 L 301826.2653169112,66884.17580578728 L 302020.2302148543,66777.0352071379 L 302149.015000001,66687.5439999998 L 302149.623000003,66687.1209999993 L 302149.823700003,66686.9406999983 L 302150.204999998,66686.5980000012 L 302192.3237015062,66648.60464330146 L 302297.07733017154,66550.39635179738 L 302331.7138052283,66513.73363595315 L 302344.13423612376,66500.00578796532 L 302349.0501210153,66494.48322497681 L 302357.5166159462,66484.84999195211 L 302462.08807765256,66351.20833935704 L 302472.49807132455,66336.16036356436 L 302556.81108961237,66198.32047816348 L 302607.405500002,66095.7148999982 L 302617.71742637723,66073.86921448402 L 302637.3089263796,66027.00186780802 L 302694.3430414364,65857.21146026737 L 302701.1270104698,65831.69059367792 L 302703.9378396086,65820.58904745232 L 302706.1968156048,65811.4156989912 L 302720.34409710317,65747.56952477423 L 302724.1701994144,65727.81736534575 L 302747.2800854932,65549.3697296522 L 302749.6749734201,65509.542223940516 L 302751.4636285515,65441.98150534006 L 302749.45040790795,65352.73356952635 L 302742.43209335965,65263.44968106702 L 302719.02667129284,65112.759010945796 L 302702.09916117,65029.177461981206 L 302665.8532884469,64850.20925202103 L 302660.4174223789,64823.369031419774 L 302597.7052808728,64513.720542781375 L 302312.576700002,63285.5648000017 L 302310.339599997,63282.2289999984 L 302085.774599999,62984.2003999986 L 302064.905900002,62962.2093999982 L 302037.614100002,62935.742899999 L 302014.456600003,62913.7672000006 L 301980.771600001,62883.5051999986 L 301977.759499997,62880.932599999 L 301933.947499998,62843.6077999994 L 301924.364799999,62836.2547000013 L 301815.875,62757.2261000015 L 301794.1325,62742.685800001 L 301169.68665658537,62336.365073726876 L 301147.78868972225,62333.45132677606 L 301009.847599998,62320.3321000002 z\" /></g></svg>"
      ],
      "text/plain": [
       "<POLYGON ((301009.848 62320.332, 300984.387 62321.312, 300769.423 62330.856,...>"
      ]
     },
     "execution_count": 6,
     "metadata": {},
     "output_type": "execute_result"
    }
   ],
   "source": []
  },
  {
   "cell_type": "code",
   "execution_count": 7,
   "metadata": {},
   "outputs": [
    {
     "name": "stdout",
     "output_type": "stream",
     "text": [
      "Amenities_PT_6538_distributed.geojson\n",
      "Home_adj_PT_6538.geojson\n",
      "Jobs_PT_6538_distributed.geojson\n",
      "metro_updated_line_ent_st_2023-07-14-ALL-NYC.geojson\n",
      "Parks_PT_6538_distributed.geojson\n",
      "Schools_PT_6538.geojson\n"
     ]
    }
   ],
   "source": [
    "scope = gpd.read_file(r\"C:\\Users\\abdul\\Dropbox (MIT)\\PhD Thesis\\Madina\\madina\\workflows\\Cities\\broadway_baseline\\Data\\NYC_network_broadway_buffer_existing.geojson\")\n",
    "scope_boundary = scope['geometry'].unary_union.convex_hull\n",
    "scope_boundary\n",
    "# data_layers = ['Amenities_PT_6538.geojson', 'Home_adj_PT_6538.geojson', 'Jobs_PT_6538.geojson', 'metro_updated_line_ent_st_2023-07-14-ALL-NYC.geojson', 'Parks_PT_6538.geojson', 'Schools_PT_6538.geojson']\n",
    "data_layers = [\n",
    "    'Amenities_PT_6538_distributed.geojson',\n",
    "    'Home_adj_PT_6538.geojson',\n",
    "    'Jobs_PT_6538_distributed.geojson',\n",
    "    'metro_updated_line_ent_st_2023-07-14-ALL-NYC.geojson',\n",
    "    'Parks_PT_6538_distributed.geojson', \n",
    "    'Schools_PT_6538.geojson'\n",
    "]\n",
    "data_folder = 'Cities\\\\NYC\\Data\\\\'\n",
    "output_folder = 'Cities\\\\broadway_baseline\\\\Data\\\\'\n",
    "for layer in data_layers:\n",
    "    layer_gdf = gpd.read_file(data_folder + layer, engine='pyogrio')\n",
    "    layer_gdf = gpd.clip(layer_gdf, scope_boundary)\n",
    "    layer_gdf.to_file(output_folder + layer, driver=\"GeoJSON\", engine='pyogrio')  \n",
    "    print (layer)\n"
   ]
  },
  {
   "cell_type": "code",
   "execution_count": 9,
   "metadata": {},
   "outputs": [],
   "source": [
    "broadway_parks = gpd.read_file(r\"C:\\Users\\abdul\\Dropbox (MIT)\\PhD Thesis\\Madina\\madina\\workflows\\Cities\\broadway_intervention_with_parks\\Data\\NYC_broadway_newparkpoints.geojson\", engine='pyogrio')\n",
    "other_parks = gpd.read_file(r\"C:\\Users\\abdul\\Dropbox (MIT)\\PhD Thesis\\Madina\\madina\\workflows\\Cities\\broadway_intervention_with_parks\\Data\\Parks_PT_6538_distributed.geojson\", engine='pyogrio')\n"
   ]
  },
  {
   "cell_type": "code",
   "execution_count": 10,
   "metadata": {},
   "outputs": [
    {
     "data": {
      "text/html": [
       "<div style=\"width:100%;\"><div style=\"position:relative;width:100%;height:0;padding-bottom:60%;\"><span style=\"color:#565656\">Make this Notebook Trusted to load map: File -> Trust Notebook</span><iframe srcdoc=\"&lt;!DOCTYPE html&gt;\n",
       "&lt;html&gt;\n",
       "&lt;head&gt;\n",
       "    \n",
       "    &lt;meta http-equiv=&quot;content-type&quot; content=&quot;text/html; charset=UTF-8&quot; /&gt;\n",
       "    \n",
       "        &lt;script&gt;\n",
       "            L_NO_TOUCH = false;\n",
       "            L_DISABLE_3D = false;\n",
       "        &lt;/script&gt;\n",
       "    \n",
       "    &lt;style&gt;html, body {width: 100%;height: 100%;margin: 0;padding: 0;}&lt;/style&gt;\n",
       "    &lt;style&gt;#map {position:absolute;top:0;bottom:0;right:0;left:0;}&lt;/style&gt;\n",
       "    &lt;script src=&quot;https://cdn.jsdelivr.net/npm/leaflet@1.9.3/dist/leaflet.js&quot;&gt;&lt;/script&gt;\n",
       "    &lt;script src=&quot;https://code.jquery.com/jquery-1.12.4.min.js&quot;&gt;&lt;/script&gt;\n",
       "    &lt;script src=&quot;https://cdn.jsdelivr.net/npm/bootstrap@5.2.2/dist/js/bootstrap.bundle.min.js&quot;&gt;&lt;/script&gt;\n",
       "    &lt;script src=&quot;https://cdnjs.cloudflare.com/ajax/libs/Leaflet.awesome-markers/2.0.2/leaflet.awesome-markers.js&quot;&gt;&lt;/script&gt;\n",
       "    &lt;link rel=&quot;stylesheet&quot; href=&quot;https://cdn.jsdelivr.net/npm/leaflet@1.9.3/dist/leaflet.css&quot;/&gt;\n",
       "    &lt;link rel=&quot;stylesheet&quot; href=&quot;https://cdn.jsdelivr.net/npm/bootstrap@5.2.2/dist/css/bootstrap.min.css&quot;/&gt;\n",
       "    &lt;link rel=&quot;stylesheet&quot; href=&quot;https://netdna.bootstrapcdn.com/bootstrap/3.0.0/css/bootstrap.min.css&quot;/&gt;\n",
       "    &lt;link rel=&quot;stylesheet&quot; href=&quot;https://cdn.jsdelivr.net/npm/@fortawesome/fontawesome-free@6.2.0/css/all.min.css&quot;/&gt;\n",
       "    &lt;link rel=&quot;stylesheet&quot; href=&quot;https://cdnjs.cloudflare.com/ajax/libs/Leaflet.awesome-markers/2.0.2/leaflet.awesome-markers.css&quot;/&gt;\n",
       "    &lt;link rel=&quot;stylesheet&quot; href=&quot;https://cdn.jsdelivr.net/gh/python-visualization/folium/folium/templates/leaflet.awesome.rotate.min.css&quot;/&gt;\n",
       "    \n",
       "            &lt;meta name=&quot;viewport&quot; content=&quot;width=device-width,\n",
       "                initial-scale=1.0, maximum-scale=1.0, user-scalable=no&quot; /&gt;\n",
       "            &lt;style&gt;\n",
       "                #map_e38d5cf470315bfd4acf54abb450ff6c {\n",
       "                    position: relative;\n",
       "                    width: 100.0%;\n",
       "                    height: 100.0%;\n",
       "                    left: 0.0%;\n",
       "                    top: 0.0%;\n",
       "                }\n",
       "                .leaflet-container { font-size: 1rem; }\n",
       "            &lt;/style&gt;\n",
       "        \n",
       "    \n",
       "                    &lt;style&gt;\n",
       "                        .foliumtooltip {\n",
       "                            \n",
       "                        }\n",
       "                       .foliumtooltip table{\n",
       "                            margin: auto;\n",
       "                        }\n",
       "                        .foliumtooltip tr{\n",
       "                            text-align: left;\n",
       "                        }\n",
       "                        .foliumtooltip th{\n",
       "                            padding: 2px; padding-right: 8px;\n",
       "                        }\n",
       "                    &lt;/style&gt;\n",
       "            \n",
       "&lt;/head&gt;\n",
       "&lt;body&gt;\n",
       "    \n",
       "    \n",
       "            &lt;div class=&quot;folium-map&quot; id=&quot;map_e38d5cf470315bfd4acf54abb450ff6c&quot; &gt;&lt;/div&gt;\n",
       "        \n",
       "&lt;/body&gt;\n",
       "&lt;script&gt;\n",
       "    \n",
       "    \n",
       "            var map_e38d5cf470315bfd4acf54abb450ff6c = L.map(\n",
       "                &quot;map_e38d5cf470315bfd4acf54abb450ff6c&quot;,\n",
       "                {\n",
       "                    center: [40.74898641189033, -73.98781618553568],\n",
       "                    crs: L.CRS.EPSG3857,\n",
       "                    zoom: 10,\n",
       "                    zoomControl: true,\n",
       "                    preferCanvas: false,\n",
       "                }\n",
       "            );\n",
       "            L.control.scale().addTo(map_e38d5cf470315bfd4acf54abb450ff6c);\n",
       "\n",
       "            \n",
       "\n",
       "        \n",
       "    \n",
       "            var tile_layer_d6281a6f1fe0ced731e99c20eef55485 = L.tileLayer(\n",
       "                &quot;https://{s}.tile.openstreetmap.org/{z}/{x}/{y}.png&quot;,\n",
       "                {&quot;attribution&quot;: &quot;Data by \\u0026copy; \\u003ca target=\\&quot;_blank\\&quot; href=\\&quot;http://openstreetmap.org\\&quot;\\u003eOpenStreetMap\\u003c/a\\u003e, under \\u003ca target=\\&quot;_blank\\&quot; href=\\&quot;http://www.openstreetmap.org/copyright\\&quot;\\u003eODbL\\u003c/a\\u003e.&quot;, &quot;detectRetina&quot;: false, &quot;maxNativeZoom&quot;: 18, &quot;maxZoom&quot;: 18, &quot;minZoom&quot;: 0, &quot;noWrap&quot;: false, &quot;opacity&quot;: 1, &quot;subdomains&quot;: &quot;abc&quot;, &quot;tms&quot;: false}\n",
       "            ).addTo(map_e38d5cf470315bfd4acf54abb450ff6c);\n",
       "        \n",
       "    \n",
       "            map_e38d5cf470315bfd4acf54abb450ff6c.fitBounds(\n",
       "                [[40.742565894129584, -73.98911271824761], [40.755406929651066, -73.98651965282376]],\n",
       "                {}\n",
       "            );\n",
       "        \n",
       "    \n",
       "        function geo_json_94d556bd0ba0467a38d3fef80f0ddb37_styler(feature) {\n",
       "            switch(feature.id) {\n",
       "                default:\n",
       "                    return {&quot;fillOpacity&quot;: 0.5, &quot;weight&quot;: 2};\n",
       "            }\n",
       "        }\n",
       "        function geo_json_94d556bd0ba0467a38d3fef80f0ddb37_highlighter(feature) {\n",
       "            switch(feature.id) {\n",
       "                default:\n",
       "                    return {&quot;fillOpacity&quot;: 0.75};\n",
       "            }\n",
       "        }\n",
       "        function geo_json_94d556bd0ba0467a38d3fef80f0ddb37_pointToLayer(feature, latlng) {\n",
       "            var opts = {&quot;bubblingMouseEvents&quot;: true, &quot;color&quot;: &quot;#3388ff&quot;, &quot;dashArray&quot;: null, &quot;dashOffset&quot;: null, &quot;fill&quot;: true, &quot;fillColor&quot;: &quot;#3388ff&quot;, &quot;fillOpacity&quot;: 0.2, &quot;fillRule&quot;: &quot;evenodd&quot;, &quot;lineCap&quot;: &quot;round&quot;, &quot;lineJoin&quot;: &quot;round&quot;, &quot;opacity&quot;: 1.0, &quot;radius&quot;: 2, &quot;stroke&quot;: true, &quot;weight&quot;: 3};\n",
       "            \n",
       "            let style = geo_json_94d556bd0ba0467a38d3fef80f0ddb37_styler(feature)\n",
       "            Object.assign(opts, style)\n",
       "            \n",
       "            return new L.CircleMarker(latlng, opts)\n",
       "        }\n",
       "\n",
       "        function geo_json_94d556bd0ba0467a38d3fef80f0ddb37_onEachFeature(feature, layer) {\n",
       "            layer.on({\n",
       "                mouseout: function(e) {\n",
       "                    if(typeof e.target.setStyle === &quot;function&quot;){\n",
       "                        geo_json_94d556bd0ba0467a38d3fef80f0ddb37.resetStyle(e.target);\n",
       "                    }\n",
       "                },\n",
       "                mouseover: function(e) {\n",
       "                    if(typeof e.target.setStyle === &quot;function&quot;){\n",
       "                        const highlightStyle = geo_json_94d556bd0ba0467a38d3fef80f0ddb37_highlighter(e.target.feature)\n",
       "                        e.target.setStyle(highlightStyle);\n",
       "                    }\n",
       "                },\n",
       "            });\n",
       "        };\n",
       "        var geo_json_94d556bd0ba0467a38d3fef80f0ddb37 = L.geoJson(null, {\n",
       "                onEachFeature: geo_json_94d556bd0ba0467a38d3fef80f0ddb37_onEachFeature,\n",
       "            \n",
       "                style: geo_json_94d556bd0ba0467a38d3fef80f0ddb37_styler,\n",
       "                pointToLayer: geo_json_94d556bd0ba0467a38d3fef80f0ddb37_pointToLayer\n",
       "        });\n",
       "\n",
       "        function geo_json_94d556bd0ba0467a38d3fef80f0ddb37_add (data) {\n",
       "            geo_json_94d556bd0ba0467a38d3fef80f0ddb37\n",
       "                .addData(data)\n",
       "                .addTo(map_e38d5cf470315bfd4acf54abb450ff6c);\n",
       "        }\n",
       "            geo_json_94d556bd0ba0467a38d3fef80f0ddb37_add({&quot;bbox&quot;: [-73.98911271824761, 40.742565894129584, -73.98651965282376, 40.755406929651066], &quot;features&quot;: [{&quot;bbox&quot;: [-73.98651965282376, 40.755406929651066, -73.98651965282376, 40.755406929651066], &quot;geometry&quot;: {&quot;coordinates&quot;: [-73.98651965282376, 40.755406929651066], &quot;type&quot;: &quot;Point&quot;}, &quot;id&quot;: &quot;0&quot;, &quot;properties&quot;: {&quot;SavedLength&quot;: 0, &quot;_Betweenness&quot;: 0, &quot;_Gravity&quot;: 0, &quot;_Reach&quot;: 0, &quot;_RedundancyCount&quot;: 0, &quot;_RedundancyIndex&quot;: 0, &quot;_Straightness&quot;: 0, &quot;__GUID&quot;: &quot;26713708-3599-4869-b580-ecdb379482d3&quot;, &quot;__Point.z&quot;: 0, &quot;__Type&quot;: &quot;Point&quot;, &quot;area_sqm&quot;: 1456.72322, &quot;xcoord&quot;: 301138.3496, &quot;ycoord&quot;: 65377.32083}, &quot;type&quot;: &quot;Feature&quot;}, {&quot;bbox&quot;: [-73.98676373875445, 40.7546758915348, -73.98676373875445, 40.7546758915348], &quot;geometry&quot;: {&quot;coordinates&quot;: [-73.98676373875445, 40.7546758915348], &quot;type&quot;: &quot;Point&quot;}, &quot;id&quot;: &quot;1&quot;, &quot;properties&quot;: {&quot;SavedLength&quot;: 0, &quot;_Betweenness&quot;: 0, &quot;_Gravity&quot;: 0, &quot;_Reach&quot;: 0, &quot;_RedundancyCount&quot;: 0, &quot;_RedundancyIndex&quot;: 0, &quot;_Straightness&quot;: 0, &quot;__GUID&quot;: &quot;c7b3fcbe-36da-4dac-9489-41f3b9d8e7d9&quot;, &quot;__Point.z&quot;: 0, &quot;__Type&quot;: &quot;Point&quot;, &quot;area_sqm&quot;: 1459.7152, &quot;xcoord&quot;: 301117.75, &quot;ycoord&quot;: 65296.13681}, &quot;type&quot;: &quot;Feature&quot;}, {&quot;bbox&quot;: [-73.98697834906407, 40.75396755123901, -73.98697834906407, 40.75396755123901], &quot;geometry&quot;: {&quot;coordinates&quot;: [-73.98697834906407, 40.75396755123901], &quot;type&quot;: &quot;Point&quot;}, &quot;id&quot;: &quot;2&quot;, &quot;properties&quot;: {&quot;SavedLength&quot;: 0, &quot;_Betweenness&quot;: 0, &quot;_Gravity&quot;: 0, &quot;_Reach&quot;: 0, &quot;_RedundancyCount&quot;: 0, &quot;_RedundancyIndex&quot;: 0, &quot;_Straightness&quot;: 0, &quot;__GUID&quot;: &quot;560d3389-c1bc-4d5a-bad0-91303683d814&quot;, &quot;__Point.z&quot;: 0, &quot;__Type&quot;: &quot;Point&quot;, &quot;area_sqm&quot;: 1336.47353, &quot;xcoord&quot;: 301099.6387, &quot;ycoord&quot;: 65217.47379}, &quot;type&quot;: &quot;Feature&quot;}, {&quot;bbox&quot;: [-73.98720802656186, 40.75326062692977, -73.98720802656186, 40.75326062692977], &quot;geometry&quot;: {&quot;coordinates&quot;: [-73.98720802656186, 40.75326062692977], &quot;type&quot;: &quot;Point&quot;}, &quot;id&quot;: &quot;3&quot;, &quot;properties&quot;: {&quot;SavedLength&quot;: 0, &quot;_Betweenness&quot;: 0, &quot;_Gravity&quot;: 0, &quot;_Reach&quot;: 0, &quot;_RedundancyCount&quot;: 0, &quot;_RedundancyIndex&quot;: 0, &quot;_Straightness&quot;: 0, &quot;__GUID&quot;: &quot;cc37477b-e6ec-4001-a33f-32eb106ea292&quot;, &quot;__Point.z&quot;: 0, &quot;__Type&quot;: &quot;Point&quot;, &quot;area_sqm&quot;: 1585.34373, &quot;xcoord&quot;: 301080.2546, &quot;ycoord&quot;: 65138.96788}, &quot;type&quot;: &quot;Feature&quot;}, {&quot;bbox&quot;: [-73.98740716586302, 40.75252868379018, -73.98740716586302, 40.75252868379018], &quot;geometry&quot;: {&quot;coordinates&quot;: [-73.98740716586302, 40.75252868379018], &quot;type&quot;: &quot;Point&quot;}, &quot;id&quot;: &quot;4&quot;, &quot;properties&quot;: {&quot;SavedLength&quot;: 0, &quot;_Betweenness&quot;: 0, &quot;_Gravity&quot;: 0, &quot;_Reach&quot;: 0, &quot;_RedundancyCount&quot;: 0, &quot;_RedundancyIndex&quot;: 0, &quot;_Straightness&quot;: 0, &quot;__GUID&quot;: &quot;59d4adc7-9797-425e-b401-007489e1442c&quot;, &quot;__Point.z&quot;: 0, &quot;__Type&quot;: &quot;Point&quot;, &quot;area_sqm&quot;: 1556.15982, &quot;xcoord&quot;: 301063.4494, &quot;ycoord&quot;: 65057.68409}, &quot;type&quot;: &quot;Feature&quot;}, {&quot;bbox&quot;: [-73.98757905949206, 40.75179161530813, -73.98757905949206, 40.75179161530813], &quot;geometry&quot;: {&quot;coordinates&quot;: [-73.98757905949206, 40.75179161530813], &quot;type&quot;: &quot;Point&quot;}, &quot;id&quot;: &quot;5&quot;, &quot;properties&quot;: {&quot;SavedLength&quot;: 0, &quot;_Betweenness&quot;: 0, &quot;_Gravity&quot;: 0, &quot;_Reach&quot;: 0, &quot;_RedundancyCount&quot;: 0, &quot;_RedundancyIndex&quot;: 0, &quot;_Straightness&quot;: 0, &quot;__GUID&quot;: &quot;0888ca6c-6ab0-4cba-845d-481fa6993d08&quot;, &quot;__Point.z&quot;: 0, &quot;__Type&quot;: &quot;Point&quot;, &quot;area_sqm&quot;: 1538.50876, &quot;xcoord&quot;: 301048.9448, &quot;ycoord&quot;: 64975.83151}, &quot;type&quot;: &quot;Feature&quot;}, {&quot;bbox&quot;: [-73.98771737937874, 40.75104830808429, -73.98771737937874, 40.75104830808429], &quot;geometry&quot;: {&quot;coordinates&quot;: [-73.98771737937874, 40.75104830808429], &quot;type&quot;: &quot;Point&quot;}, &quot;id&quot;: &quot;6&quot;, &quot;properties&quot;: {&quot;SavedLength&quot;: 0, &quot;_Betweenness&quot;: 0, &quot;_Gravity&quot;: 0, &quot;_Reach&quot;: 0, &quot;_RedundancyCount&quot;: 0, &quot;_RedundancyIndex&quot;: 0, &quot;_Straightness&quot;: 0, &quot;__GUID&quot;: &quot;f5a1535c-c088-4645-8220-384199de6ad0&quot;, &quot;__Point.z&quot;: 0, &quot;__Type&quot;: &quot;Point&quot;, &quot;area_sqm&quot;: 1528.39801, &quot;xcoord&quot;: 301037.2753, &quot;ycoord&quot;: 64893.28656}, &quot;type&quot;: &quot;Feature&quot;}, {&quot;bbox&quot;: [-73.98788468018216, 40.75028903310427, -73.98788468018216, 40.75028903310427], &quot;geometry&quot;: {&quot;coordinates&quot;: [-73.98788468018216, 40.75028903310427], &quot;type&quot;: &quot;Point&quot;}, &quot;id&quot;: &quot;7&quot;, &quot;properties&quot;: {&quot;SavedLength&quot;: 0, &quot;_Betweenness&quot;: 0, &quot;_Gravity&quot;: 0, &quot;_Reach&quot;: 0, &quot;_RedundancyCount&quot;: 0, &quot;_RedundancyIndex&quot;: 0, &quot;_Straightness&quot;: 0, &quot;__GUID&quot;: &quot;63e93cfe-e6a1-4a3c-b735-aefc975e39a1&quot;, &quot;__Point.z&quot;: 0, &quot;__Type&quot;: &quot;Point&quot;, &quot;area_sqm&quot;: 1656.44241, &quot;xcoord&quot;: 301023.1583, &quot;ycoord&quot;: 64808.9681}, &quot;type&quot;: &quot;Feature&quot;}, {&quot;bbox&quot;: [-73.98793762639421, 40.74922355455009, -73.98793762639421, 40.74922355455009], &quot;geometry&quot;: {&quot;coordinates&quot;: [-73.98793762639421, 40.74922355455009], &quot;type&quot;: &quot;Point&quot;}, &quot;id&quot;: &quot;8&quot;, &quot;properties&quot;: {&quot;SavedLength&quot;: 0, &quot;_Betweenness&quot;: 0, &quot;_Gravity&quot;: 0, &quot;_Reach&quot;: 0, &quot;_RedundancyCount&quot;: 0, &quot;_RedundancyIndex&quot;: 0, &quot;_Straightness&quot;: 0, &quot;__GUID&quot;: &quot;a9e296da-d7fd-4133-85c5-45d3c98243bc&quot;, &quot;__Point.z&quot;: 0, &quot;__Type&quot;: &quot;Point&quot;, &quot;area_sqm&quot;: 228.674782, &quot;xcoord&quot;: 301018.7032, &quot;ycoord&quot;: 64690.6475}, &quot;type&quot;: &quot;Feature&quot;}, {&quot;bbox&quot;: [-73.98810607179271, 40.74864569667269, -73.98810607179271, 40.74864569667269], &quot;geometry&quot;: {&quot;coordinates&quot;: [-73.98810607179271, 40.74864569667269], &quot;type&quot;: &quot;Point&quot;}, &quot;id&quot;: &quot;9&quot;, &quot;properties&quot;: {&quot;SavedLength&quot;: 0, &quot;_Betweenness&quot;: 0, &quot;_Gravity&quot;: 0, &quot;_Reach&quot;: 0, &quot;_RedundancyCount&quot;: 0, &quot;_RedundancyIndex&quot;: 0, &quot;_Straightness&quot;: 0, &quot;__GUID&quot;: &quot;67cdb739-dfd1-4d09-ac9d-31e6c6da4f59&quot;, &quot;__Point.z&quot;: 0, &quot;__Type&quot;: &quot;Point&quot;, &quot;area_sqm&quot;: 1042.82907, &quot;xcoord&quot;: 301004.4862, &quot;ycoord&quot;: 64626.47521}, &quot;type&quot;: &quot;Feature&quot;}, {&quot;bbox&quot;: [-73.9882439543596, 40.74791483109223, -73.9882439543596, 40.74791483109223], &quot;geometry&quot;: {&quot;coordinates&quot;: [-73.9882439543596, 40.74791483109223], &quot;type&quot;: &quot;Point&quot;}, &quot;id&quot;: &quot;10&quot;, &quot;properties&quot;: {&quot;SavedLength&quot;: 0, &quot;_Betweenness&quot;: 0, &quot;_Gravity&quot;: 0, &quot;_Reach&quot;: 0, &quot;_RedundancyCount&quot;: 0, &quot;_RedundancyIndex&quot;: 0, &quot;_Straightness&quot;: 0, &quot;__GUID&quot;: &quot;a256ae92-cfc7-4bad-814c-3a85048e9d59&quot;, &quot;__Point.z&quot;: 0, &quot;__Type&quot;: &quot;Point&quot;, &quot;area_sqm&quot;: 1248.65173, &quot;xcoord&quot;: 300992.8524, &quot;ycoord&quot;: 64545.312}, &quot;type&quot;: &quot;Feature&quot;}, {&quot;bbox&quot;: [-73.98838365504997, 40.747163177895615, -73.98838365504997, 40.747163177895615], &quot;geometry&quot;: {&quot;coordinates&quot;: [-73.98838365504997, 40.747163177895615], &quot;type&quot;: &quot;Point&quot;}, &quot;id&quot;: &quot;11&quot;, &quot;properties&quot;: {&quot;SavedLength&quot;: 0, &quot;_Betweenness&quot;: 0, &quot;_Gravity&quot;: 0, &quot;_Reach&quot;: 0, &quot;_RedundancyCount&quot;: 0, &quot;_RedundancyIndex&quot;: 0, &quot;_Straightness&quot;: 0, &quot;__GUID&quot;: &quot;a25e5c43-64b8-42f0-b29c-f36030964537&quot;, &quot;__Point.z&quot;: 0, &quot;__Type&quot;: &quot;Point&quot;, &quot;area_sqm&quot;: 1195.75107, &quot;xcoord&quot;: 300981.0651, &quot;ycoord&quot;: 64461.84036}, &quot;type&quot;: &quot;Feature&quot;}, {&quot;bbox&quot;: [-73.98852432286647, 40.7464152121195, -73.98852432286647, 40.7464152121195], &quot;geometry&quot;: {&quot;coordinates&quot;: [-73.98852432286647, 40.7464152121195], &quot;type&quot;: &quot;Point&quot;}, &quot;id&quot;: &quot;12&quot;, &quot;properties&quot;: {&quot;SavedLength&quot;: 0, &quot;_Betweenness&quot;: 0, &quot;_Gravity&quot;: 0, &quot;_Reach&quot;: 0, &quot;_RedundancyCount&quot;: 0, &quot;_RedundancyIndex&quot;: 0, &quot;_Straightness&quot;: 0, &quot;__GUID&quot;: &quot;51215066-114b-4de9-8fa5-7ae0aa9ac6e6&quot;, &quot;__Point.z&quot;: 0, &quot;__Type&quot;: &quot;Point&quot;, &quot;area_sqm&quot;: 1187.64023, &quot;xcoord&quot;: 300969.1958, &quot;ycoord&quot;: 64378.77822}, &quot;type&quot;: &quot;Feature&quot;}, {&quot;bbox&quot;: [-73.98866462586716, 40.74567035361436, -73.98866462586716, 40.74567035361436], &quot;geometry&quot;: {&quot;coordinates&quot;: [-73.98866462586716, 40.74567035361436], &quot;type&quot;: &quot;Point&quot;}, &quot;id&quot;: &quot;13&quot;, &quot;properties&quot;: {&quot;SavedLength&quot;: 0, &quot;_Betweenness&quot;: 0, &quot;_Gravity&quot;: 0, &quot;_Reach&quot;: 0, &quot;_RedundancyCount&quot;: 0, &quot;_RedundancyIndex&quot;: 0, &quot;_Straightness&quot;: 0, &quot;__GUID&quot;: &quot;77033403-3ed4-4342-b2db-9b46887cc0a3&quot;, &quot;__Point.z&quot;: 0, &quot;__Type&quot;: &quot;Point&quot;, &quot;area_sqm&quot;: 1210.85307, &quot;xcoord&quot;: 300957.357, &quot;ycoord&quot;: 64296.06117}, &quot;type&quot;: &quot;Feature&quot;}, {&quot;bbox&quot;: [-73.98879700473783, 40.744896940825015, -73.98879700473783, 40.744896940825015], &quot;geometry&quot;: {&quot;coordinates&quot;: [-73.98879700473783, 40.744896940825015], &quot;type&quot;: &quot;Point&quot;}, &quot;id&quot;: &quot;14&quot;, &quot;properties&quot;: {&quot;SavedLength&quot;: 0, &quot;_Betweenness&quot;: 0, &quot;_Gravity&quot;: 0, &quot;_Reach&quot;: 0, &quot;_RedundancyCount&quot;: 0, &quot;_RedundancyIndex&quot;: 0, &quot;_Straightness&quot;: 0, &quot;__GUID&quot;: &quot;0b7c0a42-26f8-423c-83df-00c106e0a295&quot;, &quot;__Point.z&quot;: 0, &quot;__Type&quot;: &quot;Point&quot;, &quot;area_sqm&quot;: 1185.43389, &quot;xcoord&quot;: 300946.1876, &quot;ycoord&quot;: 64210.17332}, &quot;type&quot;: &quot;Feature&quot;}, {&quot;bbox&quot;: [-73.98894041173203, 40.74416000316303, -73.98894041173203, 40.74416000316303], &quot;geometry&quot;: {&quot;coordinates&quot;: [-73.98894041173203, 40.74416000316303], &quot;type&quot;: &quot;Point&quot;}, &quot;id&quot;: &quot;15&quot;, &quot;properties&quot;: {&quot;SavedLength&quot;: 0, &quot;_Betweenness&quot;: 0, &quot;_Gravity&quot;: 0, &quot;_Reach&quot;: 0, &quot;_RedundancyCount&quot;: 0, &quot;_RedundancyIndex&quot;: 0, &quot;_Straightness&quot;: 0, &quot;__GUID&quot;: &quot;c1ce17a1-b384-410e-8028-56a7b68ff069&quot;, &quot;__Point.z&quot;: 0, &quot;__Type&quot;: &quot;Point&quot;, &quot;area_sqm&quot;: 1198.22764, &quot;xcoord&quot;: 300934.086, &quot;ycoord&quot;: 64128.33589}, &quot;type&quot;: &quot;Feature&quot;}, {&quot;bbox&quot;: [-73.98907486848266, 40.74341385635471, -73.98907486848266, 40.74341385635471], &quot;geometry&quot;: {&quot;coordinates&quot;: [-73.98907486848266, 40.74341385635471], &quot;type&quot;: &quot;Point&quot;}, &quot;id&quot;: &quot;16&quot;, &quot;properties&quot;: {&quot;SavedLength&quot;: 0, &quot;_Betweenness&quot;: 0, &quot;_Gravity&quot;: 0, &quot;_Reach&quot;: 0, &quot;_RedundancyCount&quot;: 0, &quot;_RedundancyIndex&quot;: 0, &quot;_Straightness&quot;: 0, &quot;__GUID&quot;: &quot;5db231a1-2183-48ba-8c54-f3e5c98bf673&quot;, &quot;__Point.z&quot;: 0, &quot;__Type&quot;: &quot;Point&quot;, &quot;area_sqm&quot;: 1092.52879, &quot;xcoord&quot;: 300922.7402, &quot;ycoord&quot;: 64045.47592}, &quot;type&quot;: &quot;Feature&quot;}, {&quot;bbox&quot;: [-73.98911271824761, 40.742565894129584, -73.98911271824761, 40.742565894129584], &quot;geometry&quot;: {&quot;coordinates&quot;: [-73.98911271824761, 40.742565894129584], &quot;type&quot;: &quot;Point&quot;}, &quot;id&quot;: &quot;17&quot;, &quot;properties&quot;: {&quot;SavedLength&quot;: 0, &quot;_Betweenness&quot;: 0, &quot;_Gravity&quot;: 0, &quot;_Reach&quot;: 0, &quot;_RedundancyCount&quot;: 0, &quot;_RedundancyIndex&quot;: 0, &quot;_Straightness&quot;: 0, &quot;__GUID&quot;: &quot;1a54d35f-59b8-498e-a71c-16eda8ae7740&quot;, &quot;__Point.z&quot;: 0, &quot;__Type&quot;: &quot;Point&quot;, &quot;area_sqm&quot;: 1362.14519, &quot;xcoord&quot;: 300919.5551, &quot;ycoord&quot;: 63951.31053}, &quot;type&quot;: &quot;Feature&quot;}], &quot;type&quot;: &quot;FeatureCollection&quot;});\n",
       "\n",
       "        \n",
       "    \n",
       "    geo_json_94d556bd0ba0467a38d3fef80f0ddb37.bindTooltip(\n",
       "    function(layer){\n",
       "    let div = L.DomUtil.create(&#x27;div&#x27;);\n",
       "    \n",
       "    let handleObject = feature=&gt;typeof(feature)==&#x27;object&#x27; ? JSON.stringify(feature) : feature;\n",
       "    let fields = [&quot;__GUID&quot;, &quot;__Type&quot;, &quot;xcoord&quot;, &quot;ycoord&quot;, &quot;__Point.z&quot;, &quot;SavedLength&quot;, &quot;_Reach&quot;, &quot;_Gravity&quot;, &quot;_Straightness&quot;, &quot;_Betweenness&quot;, &quot;_RedundancyIndex&quot;, &quot;_RedundancyCount&quot;, &quot;area_sqm&quot;];\n",
       "    let aliases = [&quot;__GUID&quot;, &quot;__Type&quot;, &quot;xcoord&quot;, &quot;ycoord&quot;, &quot;__Point.z&quot;, &quot;SavedLength&quot;, &quot;_Reach&quot;, &quot;_Gravity&quot;, &quot;_Straightness&quot;, &quot;_Betweenness&quot;, &quot;_RedundancyIndex&quot;, &quot;_RedundancyCount&quot;, &quot;area_sqm&quot;];\n",
       "    let table = &#x27;&lt;table&gt;&#x27; +\n",
       "        String(\n",
       "        fields.map(\n",
       "        (v,i)=&gt;\n",
       "        `&lt;tr&gt;\n",
       "            &lt;th&gt;${aliases[i]}&lt;/th&gt;\n",
       "            \n",
       "            &lt;td&gt;${handleObject(layer.feature.properties[v])}&lt;/td&gt;\n",
       "        &lt;/tr&gt;`).join(&#x27;&#x27;))\n",
       "    +&#x27;&lt;/table&gt;&#x27;;\n",
       "    div.innerHTML=table;\n",
       "    \n",
       "    return div\n",
       "    }\n",
       "    ,{&quot;className&quot;: &quot;foliumtooltip&quot;, &quot;sticky&quot;: true});\n",
       "                     \n",
       "&lt;/script&gt;\n",
       "&lt;/html&gt;\" style=\"position:absolute;width:100%;height:100%;left:0;top:0;border:none !important;\" allowfullscreen webkitallowfullscreen mozallowfullscreen></iframe></div></div>"
      ],
      "text/plain": [
       "<folium.folium.Map at 0x172e3d500d0>"
      ]
     },
     "execution_count": 10,
     "metadata": {},
     "output_type": "execute_result"
    }
   ],
   "source": [
    "broadway_parks.explore()"
   ]
  },
  {
   "cell_type": "code",
   "execution_count": 11,
   "metadata": {},
   "outputs": [],
   "source": [
    "import pandas as pd\n",
    "all_parks = pd.concat([broadway_parks, other_parks])"
   ]
  },
  {
   "cell_type": "code",
   "execution_count": 12,
   "metadata": {},
   "outputs": [],
   "source": [
    "all_parks[[\"geometry\", \"area_sqm\"]].to_file('Cities\\\\broadway_intervention_with_parks\\\\Data\\\\broadway_parks_with_city_parks.geojson', driver=\"GeoJSON\", engine='pyogrio')  "
   ]
  }
 ],
 "metadata": {
  "kernelspec": {
   "display_name": "madina_dev",
   "language": "python",
   "name": "python3"
  },
  "language_info": {
   "codemirror_mode": {
    "name": "ipython",
    "version": 3
   },
   "file_extension": ".py",
   "mimetype": "text/x-python",
   "name": "python",
   "nbconvert_exporter": "python",
   "pygments_lexer": "ipython3",
   "version": "3.11.0"
  },
  "orig_nbformat": 4
 },
 "nbformat": 4,
 "nbformat_minor": 2
}
