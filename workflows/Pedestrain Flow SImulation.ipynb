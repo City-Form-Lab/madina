{
 "cells": [
  {
   "cell_type": "markdown",
   "metadata": {},
   "source": [
    "# A Pedestrian Flow SImulation Workflow"
   ]
  },
  {
   "cell_type": "code",
   "execution_count": 1,
   "metadata": {},
   "outputs": [
    {
     "name": "stdout",
     "output_type": "stream",
     "text": [
      "total time | seconds elapsed |                flow_name                 | event\n",
      "    0.0000 |        0.000000 |                   ---                    | SIMULATION STARTED: VERSION: 0.0.2, RELEASE DATEL 2023-08-08\n",
      "    5.3534 |        5.353435 |                   ---                    | Network FIle Loaded, Projection: EPSG:26986\n",
      "    8.2871 |        2.933692 |     Somerville_Bus_Subway_Geometric      | Network topology created\n",
      "    8.3214 |        0.034288 |     Somerville_Bus_Subway_Geometric      | Bus file bus.geojson Loaded, Projection: EPSG:26986\n",
      "    8.3427 |        0.021295 |     Somerville_Bus_Subway_Geometric      | Subway file subway.geojson Loaded, Projection: EPSG:26986\n",
      "    8.3548 |        0.012044 |     Somerville_Bus_Subway_Geometric      | Origins and Destinations Inserted.\n",
      "    8.7395 |        0.384713 |     Somerville_Bus_Subway_Geometric      | NetworkX Graphs Created.\n",
      "   15.7846 |        7.045172 |     Somerville_Bus_Subway_Geometric      | Betweenness estimated.\n",
      "   27.3364 |       11.551723 |     Somerville_Bus_Subway_Geometric      | Output saved\n",
      "   30.9929 |        3.656500 |          Somerville_Bus_Subway           | Network topology created\n",
      "   31.0369 |        0.044008 |          Somerville_Bus_Subway           | Origins and Destinations Inserted.\n",
      "   31.6449 |        0.608015 |          Somerville_Bus_Subway           | NetworkX Graphs Created.\n",
      "   39.4867 |        7.841812 |          Somerville_Bus_Subway           | Betweenness estimated.\n",
      "   51.1034 |       11.616724 |          Somerville_Bus_Subway           | Output saved\n",
      "   56.3859 |        5.282458 |         Somerville_Homes_Subway          | Homes file homes.geojson Loaded, Projection: EPSG:26986\n",
      "   57.6740 |        1.288108 |         Somerville_Homes_Subway          | Origins and Destinations Inserted.\n",
      "   58.1153 |        0.441267 |         Somerville_Homes_Subway          | NetworkX Graphs Created.\n",
      "Time spent: 13s [Done 1,414 of 35,344 origins (4.00%)]\r"
     ]
    }
   ],
   "source": [
    "import sys\n",
    "sys.path.append('../')\n",
    "from madina.una.betweenness import betweenness_flow_simulation\n",
    "\n",
    "betweenness_flow_simulation(\n",
    "        city_name='Somerville',\n",
    "        data_folder=None,\n",
    "        output_folder=None,\n",
    "        pairings_file=\"pairings.csv\",\n",
    "        num_cores=8,\n",
    "    )"
   ]
  }
 ],
 "metadata": {
  "kernelspec": {
   "display_name": "madina_dev",
   "language": "python",
   "name": "python3"
  },
  "language_info": {
   "codemirror_mode": {
    "name": "ipython",
    "version": 3
   },
   "file_extension": ".py",
   "mimetype": "text/x-python",
   "name": "python",
   "nbconvert_exporter": "python",
   "pygments_lexer": "ipython3",
   "version": "3.11.0"
  },
  "orig_nbformat": 4
 },
 "nbformat": 4,
 "nbformat_minor": 2
}
