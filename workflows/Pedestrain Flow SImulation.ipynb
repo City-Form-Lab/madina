{
 "cells": [
  {
   "cell_type": "markdown",
   "metadata": {},
   "source": [
    "# A Pedestrian Flow SImulation Workflow"
   ]
  },
  {
   "cell_type": "code",
   "execution_count": 1,
   "metadata": {},
   "outputs": [
    {
     "name": "stdout",
     "output_type": "stream",
     "text": [
      "total time | seconds elapsed |                flow_name                 | event\n",
      "    0.0000 |        0.000000 |                   ---                    | SIMULATION STARTED: VERSION: 0.0.1, RELEASE DATEL 2023-08-02\n",
      "    5.5127 |        5.512651 |                   ---                    | Network FIle Loaded, Projection: EPSG:26986\n",
      "    8.4035 |        2.890899 |     Somerville_Bus_Subway_Geometric      | Network topology created\n",
      "    8.4351 |        0.031564 |     Somerville_Bus_Subway_Geometric      | Bus file bus.geojson Loaded, Projection: EPSG:26986\n",
      "    8.4479 |        0.012799 |     Somerville_Bus_Subway_Geometric      | Subway file subway.geojson Loaded, Projection: EPSG:26986\n",
      "    8.4721 |        0.024190 |     Somerville_Bus_Subway_Geometric      | Origins and Destinations Inserted.\n",
      "    8.8214 |        0.349257 |     Somerville_Bus_Subway_Geometric      | NetworkX Graphs Created.\n",
      "   14.6576 |        5.836234 |     Somerville_Bus_Subway_Geometric      | Betweenness estimated.\n"
     ]
    }
   ],
   "source": [
    "import sys\n",
    "sys.path.append('../')\n",
    "from madina.una.betweenness import betweenness_flow_simulation\n",
    "\n",
    "betweenness_flow_simulation(\n",
    "        city_name='Somerville',\n",
    "        data_folder=None,\n",
    "        output_folder=None,\n",
    "        pairings_file=\"Pairings.csv\",\n",
    "        num_cores=6,\n",
    "    )"
   ]
  }
 ],
 "metadata": {
  "kernelspec": {
   "display_name": "madina_dev",
   "language": "python",
   "name": "python3"
  },
  "language_info": {
   "codemirror_mode": {
    "name": "ipython",
    "version": 3
   },
   "file_extension": ".py",
   "mimetype": "text/x-python",
   "name": "python",
   "nbconvert_exporter": "python",
   "pygments_lexer": "ipython3",
   "version": "3.11.0"
  },
  "orig_nbformat": 4
 },
 "nbformat": 4,
 "nbformat_minor": 2
}
