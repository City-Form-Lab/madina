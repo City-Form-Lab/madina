{
 "cells": [
  {
   "cell_type": "markdown",
   "metadata": {},
   "source": [
    "# A Pedestrian Flow SImulation Workflow"
   ]
  },
  {
   "cell_type": "code",
   "execution_count": 1,
   "metadata": {},
   "outputs": [
    {
     "name": "stdout",
     "output_type": "stream",
     "text": [
      "total time | seconds elapsed |                flow_name                 | event\n",
      "    0.0000 |        0.000000 |                   ---                    | SIMULATION STARTED: VERSION: 0.0.2, RELEASE DATEL 2023-08-08\n",
      "    6.9380 |        6.937964 |                   ---                    | Network FIle Loaded, Projection: EPSG:26986\n",
      "    9.8850 |        2.947045 |     Somerville_Bus_Subway_Geometric      | Network topology created\n",
      "    9.9210 |        0.036017 |     Somerville_Bus_Subway_Geometric      | Bus file bus.geojson Loaded, Projection: EPSG:26986\n",
      "    9.9210 |        0.000000 |     Somerville_Bus_Subway_Geometric      | Subway file subway.geojson Loaded, Projection: EPSG:26986\n",
      "    9.9551 |        0.034117 |     Somerville_Bus_Subway_Geometric      | Origins and Destinations Inserted.\n",
      "   10.3196 |        0.364448 |     Somerville_Bus_Subway_Geometric      | NetworkX Graphs Created.\n",
      "   19.2704 |        8.950772 |     Somerville_Bus_Subway_Geometric      | Betweenness estimated.\n",
      "   32.1932 |       12.922843 |     Somerville_Bus_Subway_Geometric      | Output saved\n",
      "   35.3563 |        3.163072 |          Somerville_Bus_Subway           | Network topology created\n",
      "   35.3724 |        0.016078 |          Somerville_Bus_Subway           | Origins and Destinations Inserted.\n",
      "   35.7084 |        0.336016 |          Somerville_Bus_Subway           | NetworkX Graphs Created.\n",
      "   42.8816 |        7.173207 |          Somerville_Bus_Subway           | Betweenness estimated.\n",
      "   57.7037 |       14.822110 |          Somerville_Bus_Subway           | Output saved\n",
      "   63.2482 |        5.544533 |         Somerville_Homes_Subway          | Homes file homes.geojson Loaded, Projection: EPSG:26986\n",
      "   64.5372 |        1.288952 |         Somerville_Homes_Subway          | Origins and Destinations Inserted.\n",
      "   65.0873 |        0.550088 |         Somerville_Homes_Subway          | NetworkX Graphs Created.\n",
      "  226.3339 |      161.246677 |         Somerville_Homes_Subway          | Betweenness estimated.\n",
      "  278.6450 |       52.311028 |         Somerville_Homes_Subway          | Output saved\n",
      "  280.2537 |        1.608731 |          Somerville_Jobs_Subway          | Jobs file jobs.geojson Loaded, Projection: EPSG:26986\n",
      "  280.4814 |        0.227654 |          Somerville_Jobs_Subway          | Origins and Destinations Inserted.\n",
      "  280.9033 |        0.421920 |          Somerville_Jobs_Subway          | NetworkX Graphs Created.\n",
      "  313.3594 |       32.456143 |          Somerville_Jobs_Subway          | Betweenness estimated.\n",
      "  332.2714 |       18.911951 |          Somerville_Jobs_Subway          | Output saved\n",
      "  332.6375 |        0.366128 |      Somerville_Amenities_Amenities      | Amenities file amenities.geojson Loaded, Projection: EPSG:26986\n",
      "  332.7829 |        0.145409 |      Somerville_Amenities_Amenities      | Origins and Destinations Inserted.\n",
      "  334.0217 |        1.238747 |      Somerville_Amenities_Amenities      | NetworkX Graphs Created.\n",
      " 1158.0670 |      824.045357 |      Somerville_Amenities_Amenities      | Betweenness estimated.\n",
      " 1181.0356 |       22.968619 |      Somerville_Amenities_Amenities      | Output saved\n",
      " 1181.4094 |        0.373738 |       Somerville_CensusBlock_Parks       | CensusBlock file CensusBlock.geojson Loaded, Projection: EPSG:26986\n",
      " 1181.4494 |        0.040039 |       Somerville_CensusBlock_Parks       | Parks file parks.geojson Loaded, Projection: EPSG:26986\n",
      " 1181.5720 |        0.122641 |       Somerville_CensusBlock_Parks       | Origins and Destinations Inserted.\n",
      " 1182.3415 |        0.769491 |       Somerville_CensusBlock_Parks       | NetworkX Graphs Created.\n",
      " 1289.3594 |      107.017891 |       Somerville_CensusBlock_Parks       | Betweenness estimated.\n",
      " 1306.9062 |       17.546786 |       Somerville_CensusBlock_Parks       | Output saved\n",
      " 1306.9377 |        0.031506 |      Somerville_Institutions_Subway      | Institutions file institutions.geojson Loaded, Projection: EPSG:26986\n",
      " 1306.9377 |        0.000000 |      Somerville_Institutions_Subway      | Origins and Destinations Inserted.\n",
      " 1307.3343 |        0.396584 |      Somerville_Institutions_Subway      | NetworkX Graphs Created.\n",
      " 1316.2480 |        8.913687 |      Somerville_Institutions_Subway      | Betweenness estimated.\n",
      " 1331.7236 |       15.475613 |      Somerville_Institutions_Subway      | Output saved\n",
      " 1340.9808 |        9.257170 |                   ---                    | Simulation Output saved: ALL DONE\n"
     ]
    }
   ],
   "source": [
    "import sys\n",
    "sys.path.append('../')\n",
    "from madina.una.betweenness import betweenness_flow_simulation\n",
    "\n",
    "betweenness_flow_simulation(\n",
    "        city_name='Somerville',\n",
    "        data_folder=None,\n",
    "        output_folder=None,\n",
    "        pairings_file=\"pairings.csv\",\n",
    "        num_cores=8,\n",
    "    )"
   ]
  }
 ],
 "metadata": {
  "kernelspec": {
   "display_name": "madina_dev",
   "language": "python",
   "name": "python3"
  },
  "language_info": {
   "codemirror_mode": {
    "name": "ipython",
    "version": 3
   },
   "file_extension": ".py",
   "mimetype": "text/x-python",
   "name": "python",
   "nbconvert_exporter": "python",
   "pygments_lexer": "ipython3",
   "version": "3.11.0"
  },
  "orig_nbformat": 4
 },
 "nbformat": 4,
 "nbformat_minor": 2
}
