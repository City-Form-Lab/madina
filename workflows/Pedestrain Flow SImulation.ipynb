{
 "cells": [
  {
   "cell_type": "markdown",
   "metadata": {},
   "source": [
    "# A Pedestrian Flow SImulation Workflow"
   ]
  },
  {
   "cell_type": "code",
   "execution_count": 2,
   "metadata": {},
   "outputs": [
    {
     "name": "stdout",
     "output_type": "stream",
     "text": [
      "total time | seconds elapsed |                flow_name                 | event\n",
      "    0.0000 |        0.000000 |                   ---                    | SIMULATION STARTED: VERSION: 0.0.2, RELEASE DATEL 2023-08-06\n",
      "   16.2285 |       16.228525 |                   ---                    | Network FIle Loaded, Projection: EPSG:6538\n",
      "   83.4102 |       67.181706 |        NYC_Homes_Parks_Geometric         | Network topology created\n",
      "   84.6961 |        1.285879 |        NYC_Homes_Parks_Geometric         | Homes file Home_adj_PT_6538.geojson Loaded, Projection: EPSG:6538\n",
      "   87.0199 |        2.323770 |        NYC_Homes_Parks_Geometric         | Parks file Parks_PT_6538.geojson Loaded, Projection: EPSG:6538\n",
      "   89.1262 |        2.106359 |        NYC_Homes_Parks_Geometric         | Origins and Destinations Inserted.\n",
      "  109.4704 |       20.344159 |        NYC_Homes_Parks_Geometric         | NetworkX Graphs Created.\n"
     ]
    }
   ],
   "source": [
    "import sys\n",
    "sys.path.append('../')\n",
    "from madina.una.betweenness import betweenness_flow_simulation\n",
    "\n",
    "betweenness_flow_simulation(\n",
    "        city_name='NYC',\n",
    "        data_folder=None,\n",
    "        output_folder=None,\n",
    "        pairings_file=\"pairings.csv\",\n",
    "        num_cores=3,\n",
    "    )"
   ]
  }
 ],
 "metadata": {
  "kernelspec": {
   "display_name": "madina_dev",
   "language": "python",
   "name": "python3"
  },
  "language_info": {
   "codemirror_mode": {
    "name": "ipython",
    "version": 3
   },
   "file_extension": ".py",
   "mimetype": "text/x-python",
   "name": "python",
   "nbconvert_exporter": "python",
   "pygments_lexer": "ipython3",
   "version": "3.11.0"
  },
  "orig_nbformat": 4
 },
 "nbformat": 4,
 "nbformat_minor": 2
}
