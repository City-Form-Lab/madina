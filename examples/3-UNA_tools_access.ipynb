{
 "cells": [
  {
   "cell_type": "markdown",
   "metadata": {},
   "source": [
    "# 3) Urban Network Analysis (UNA) Tools: Accessibility, Closest Facility and Service Area\n",
    "\n",
    "We learned how to load and visualize layers in section 1, and learned how to create, diagnose and visualize network in section 2. In this section we wil learn how to use the UNA Acissibility tools. As we learned from the preivos two section, the following code:\n",
    "* loads the sidewalk, buildinbg entrances and subway entrances geometries.\n",
    "* Create a topological network\n",
    "* Create the graph objects. \n",
    "\n",
    "This is all we need to start using the UNA tools in Madina.\n"
   ]
  },
  {
   "cell_type": "code",
   "execution_count": null,
   "metadata": {},
   "outputs": [],
   "source": [
    "import madina as md\n",
    "cambridge = md.Zonal()\n",
    "\n",
    "#Loading sidewalks, buildings and subway geometries. \n",
    "cambridge.load_layer('sidewalks', 'Cities/Cambridge/Data/sidewalks.geojson')\n",
    "cambridge.load_layer('buildings', 'Cities/Cambridge/Data/building_entrances.geojson')\n",
    "cambridge.load_layer('subway', 'Cities/Cambridge/Data/subway.geojson')\n",
    "\n",
    "# Creating a network, and adding origins and destinations\n",
    "cambridge.create_street_network(source_layer=\"sidewalks\", node_snapping_tolerance=0.1)\n",
    "cambridge.insert_node(label='origin', layer_name=\"subway\")\n",
    "cambridge.insert_node(label='destination', layer_name=\"buildings\")\n",
    "\n",
    "# Creating graphs\n",
    "cambridge.create_graph()"
   ]
  },
  {
   "cell_type": "code",
   "execution_count": null,
   "metadata": {},
   "outputs": [],
   "source": [
    "round(254.7)"
   ]
  },
  {
   "cell_type": "markdown",
   "metadata": {},
   "source": [
    "We first need to import the UNA tools module:"
   ]
  },
  {
   "cell_type": "code",
   "execution_count": null,
   "metadata": {},
   "outputs": [],
   "source": [
    "import madina.una.tools as una"
   ]
  },
  {
   "cell_type": "markdown",
   "metadata": {},
   "source": [
    "We want to know how many building entrances or people can be reached from subway stations in a 5-minute (300m) walkshed. \n",
    "\n",
    "## una.accissibility - Reach Index\n",
    "Running the `una.accessibility` and giving it parameters `reach=True, search_radius=300` will measure how many destinations (building entrances) are reachable from origins (subway). We see that the northen station could be reached by 106 building entrance, while the southern station could be reached by 112 building entrance. \n",
    "\n",
    "The <code>una_accessibility</code> creates a column called <code>una_reach</code> when the parameter <code>reach=True</code>. We could use that to explore more visualization functionalities:"
   ]
  },
  {
   "cell_type": "code",
   "execution_count": null,
   "metadata": {},
   "outputs": [],
   "source": [
    "una.accessibility(\n",
    "    cambridge,\n",
    "    reach=True,\n",
    "    search_radius=300, \n",
    "    save_reach_as=\"reach_to_buildings\"\n",
    ")\n",
    "\n",
    "\n",
    "cambridge.create_map(\n",
    "    [\n",
    "        {\"layer\": 'sidewalks', 'color': [125, 125, 125]},\n",
    "        {\"layer\": \"subway\", \"radius\": \"reach_to_buildings\", 'text':'reach_to_buildings', 'color': [255, 0, 0]},\n",
    "    ]\n",
    ")\n"
   ]
  },
  {
   "cell_type": "markdown",
   "metadata": {},
   "source": [
    "Setting the parameter <code>weight='people'</code> enables us to weight the destinations (building entrances) by how many people actually live in these building. We could then see that 2,789 people could reach the northen station by walking a maximum of 300 meters. The southern station could be reached by 3,017 people."
   ]
  },
  {
   "cell_type": "code",
   "execution_count": null,
   "metadata": {},
   "outputs": [],
   "source": [
    "una.accessibility(\n",
    "    cambridge,\n",
    "    reach=True,\n",
    "    search_radius=300,\n",
    "    weight='people',\n",
    "    save_reach_as=\"gravity_to_people\"\n",
    ")\n",
    "\n",
    "cambridge.create_map(\n",
    "    layer_list=[\n",
    "        {\"layer\": 'sidewalks', 'color': [125, 125, 125]},\n",
    "        {\"layer\": \"subway\", \"radius\": \"gravity_to_people\", 'text':'gravity_to_people', 'color': [255, 0, 0]},\n",
    "    ]\n",
    ")"
   ]
  },
  {
   "cell_type": "markdown",
   "metadata": {},
   "source": [
    "## una.service_area\n",
    "Sometimes, we want to examine a section of our data in isolation. The `service_area()` function is a great introduction into that. The library internally uses a library called [GeoPandas](https://geopandas.org), where a layer is stored as a GeoDataFrame. GeoDataFrames are an extenstion to the well known [Pandas library's](https://pandas.pydata.org/) DataFrame. If you're familiar with the Pandas Dataframe, you'll be able to use all the functionality you're familiar with. The only difference is that a GeoDataFrame always has a `geometry` column, and supports a wide array of spatial operations.\n",
    "\n",
    "The `service_area()` function returns:\n",
    "* `destinations`: a GeoDataFrame  containing all the destinations that are reachable and covered by an origin's service area.\n",
    "* `network_edges`: a GeoDataframe containing all network segments inside the origin's service area. \n",
    "* `scope_gdf`: a Dataframe that contains the boundaries of the service area.\n",
    "\n",
    "As discussed in section 1, `create_map()` could take either a layer name from the layers we loaded, or a gdf (i.e. GeoDataFrame)."
   ]
  },
  {
   "cell_type": "code",
   "execution_count": null,
   "metadata": {},
   "outputs": [],
   "source": [
    "destinations, network_edges, scope_gdf = una.service_area(\n",
    "    cambridge,\n",
    "    search_radius=100,\n",
    ")\n",
    "\n",
    "cambridge.create_map(\n",
    "    layer_list=[\n",
    "        {\"layer\": 'sidewalks', 'opacity': 0.1},\n",
    "        {\"layer\": 'buildings', 'opacity': 0.1},\n",
    "        {\"layer\": 'subway'},\n",
    "        {\"gdf\": network_edges, \"color\": [0, 255, 0]},\n",
    "        {\"gdf\": destinations, \"color\": [255, 0, 0]},\n",
    "        {\"gdf\": scope_gdf, \"color\": [0, 0, 255], 'opacity': 0.10},\n",
    "    ]\n",
    ")"
   ]
  },
  {
   "cell_type": "markdown",
   "metadata": {},
   "source": [
    "let's see the impact of imposing a turn penalty on the service area:"
   ]
  },
  {
   "cell_type": "code",
   "execution_count": null,
   "metadata": {},
   "outputs": [],
   "source": [
    "destinations, network_edges, scope_gdf = una.service_area(\n",
    "    cambridge,\n",
    "    search_radius=100,\n",
    "    turn_penalty=True, \n",
    "    turn_penalty_amount=25, \n",
    "    turn_threshold_degree=45,\n",
    ")\n",
    "\n",
    "cambridge.create_map(\n",
    "    layer_list=[\n",
    "        {\"layer\": 'sidewalks', 'opacity': 0.1},\n",
    "        {\"layer\": 'buildings', 'opacity': 0.1},\n",
    "        {\"layer\": 'subway'},\n",
    "        {\"gdf\": network_edges, \"color\": [0, 255, 0]},\n",
    "        {\"gdf\": destinations, \"color\": [255, 0, 0]},\n",
    "        {\"gdf\": scope_gdf, \"color\": [0, 0, 255], 'opacity': 0.10},\n",
    "    ]\n",
    ")"
   ]
  },
  {
   "cell_type": "markdown",
   "metadata": {},
   "source": [
    "We see each station's service area getting smaller in response to imposing a penalty on turns. \n",
    "\n",
    "## Setting up Attributes\n",
    "It is possible to make changes to layers by modifying existing values or adding new attributes. these new or modified attributes could be used as weights in UNA tools. Every object geometry in a layer has an identifier, and each layer once loaded is assigned an `id` attribute. We can visualize these ids"
   ]
  },
  {
   "cell_type": "code",
   "execution_count": null,
   "metadata": {},
   "outputs": [],
   "source": [
    "cambridge.create_map(\n",
    "    layer_list=[\n",
    "        {\"layer\": 'sidewalks', 'color': [125, 125, 125]},\n",
    "        {\"layer\": 'buildings', 'text':'id', 'color': [255, 0, 0]},\n",
    "    ]\n",
    ")"
   ]
  },
  {
   "cell_type": "markdown",
   "metadata": {},
   "source": [
    "We can give building entrances with ids 2 and 115 a new atttribute `students` and assign values 10 and 10, for building ids 2 and 115 respectively. We could do that by accessing the Geodataframe of the layer building, then using [the function](https://pandas.pydata.org/docs/reference/api/pandas.DataFrame.at.html) `at(id_number, attribute_name)` to set individual attributes. \n",
    "\n",
    "For visualization, we could use the pandas' [loc](https://pandas.pydata.org/docs/reference/api/pandas.DataFrame.loc.html) to access specific rows/geometries by specifying a list of their ids. The next map shows building entrances with ids 2 and 115, and shows their `students` attribute which we've set for both to 10"
   ]
  },
  {
   "cell_type": "code",
   "execution_count": null,
   "metadata": {},
   "outputs": [],
   "source": [
    "cambridge.layers['buildings'].gdf.at[2, 'students'] = 10\n",
    "cambridge.layers['buildings'].gdf.at[115, 'students'] = 10\n",
    "\n",
    "cambridge.create_map(\n",
    "    layer_list=[\n",
    "        {\"layer\": 'sidewalks', 'color': [125, 125, 125]},\n",
    "        {\"gdf\": cambridge['buildings'].gdf.loc[[2, 115]], 'text':'students', 'color': [255, 0, 0]},\n",
    "    ]\n",
    ")"
   ]
  },
  {
   "cell_type": "markdown",
   "metadata": {},
   "source": [
    "From the map below, we now notice that 20 students can reach the northen station, and 10 students could reach he southern station on a 300 meter walk."
   ]
  },
  {
   "cell_type": "code",
   "execution_count": null,
   "metadata": {},
   "outputs": [],
   "source": [
    "una.accessibility(\n",
    "    cambridge, \n",
    "    reach=True,\n",
    "    search_radius=300,\n",
    "    weight='students', \n",
    "    save_reach_as='reach_to_students'\n",
    ")\n",
    "\n",
    "cambridge.create_map(\n",
    "    layer_list=[\n",
    "        {\"layer\": 'sidewalks', 'color': [125, 125, 125]},\n",
    "        {\"layer\": 'subway', \"radius\": \"reach_to_students\", 'text':'reach_to_students', 'color': [255, 0, 0]},\n",
    "    ]\n",
    ")"
   ]
  },
  {
   "cell_type": "markdown",
   "metadata": {},
   "source": [
    "## una.accissibility - Gravity Index\n",
    "The <a href=\"https://en.wikipedia.org/wiki/Trip_distribution#Gravity_model\"> gravity model</a> of transportation is one of many <a href=\"https://en.wikipedia.org/wiki/Distance_decay\">distance decay</a> functions. The aim of a distance decay function (e.g. gravity) is to quantify the inverse relationship between distance, and willingness to make trips. applying gravity peanilize further destinations by reducing their contribution, assume that they are less accissable. For this reason, a gravity index is always less than or equal to a reach index.\n",
    "<p>\n",
    "\n",
    "When factoring in a gravity decay, we notice that the northen station only attracts 16.88 students (As opposed to 20) and the southern station now attracts only 8.67 students (as opposed to 10)."
   ]
  },
  {
   "cell_type": "code",
   "execution_count": null,
   "metadata": {},
   "outputs": [],
   "source": [
    "una.accessibility(\n",
    "    cambridge, \n",
    "    gravity=True,\n",
    "    search_radius=300,\n",
    "    beta=0.001,\n",
    "    alpha=1,\n",
    "    weight='students',\n",
    "    save_gravity_as='gravity_to_students'\n",
    ")\n",
    "\n",
    "cambridge.create_map(\n",
    "    layer_list=[\n",
    "        {\"layer\": 'sidewalks', 'color': [125, 125, 125]},\n",
    "        {\"layer\": 'subway', \"radius\": \"gravity_to_students\", 'text':'gravity_to_students', 'color': [255, 0, 0]},\n",
    "    ]\n",
    ")"
   ]
  },
  {
   "cell_type": "markdown",
   "metadata": {},
   "source": [
    "## Comparing Reach and Gravity of People to Subway\n",
    "We go back to using `people` as weight, and we again call the function `una_accessibility()`, this time, setting both reach and gravity to `True`. The map below shows the two stations with their grqavity score. You can hover each station to see more information. The northern station has a reach index of 2,789 but a gravity index of only 2,361.54, while the southern station has a reach index of 3,017 and a gravity index of only 2,606.81."
   ]
  },
  {
   "cell_type": "code",
   "execution_count": null,
   "metadata": {},
   "outputs": [],
   "source": [
    "una.accessibility(\n",
    "    cambridge, \n",
    "    reach=True,\n",
    "    gravity=True,\n",
    "    search_radius=300,\n",
    "    beta=0.001,\n",
    "    alpha=1,\n",
    "    weight='people',\n",
    "    save_reach_as='reach_to_people', \n",
    "    save_gravity_as='gravity_to_people'\n",
    ")\n",
    "cambridge.create_map(\n",
    "    layer_list=[\n",
    "        {\"layer\": 'sidewalks', 'color': [125, 125, 125]},\n",
    "        {\"layer\": 'subway', \"radius\": \"gravity_to_people\", 'text':'gravity_to_people', 'color': [255, 0, 0]},\n",
    "    ]\n",
    ")"
   ]
  },
  {
   "cell_type": "markdown",
   "metadata": {},
   "source": [
    "## una.closest_facility()\n",
    "When using <code>una_accessibility()</code>, there is potential for overlap between destinations assigned to each origin, so a destination would be double counted in an origin's accissability indices. The `closest_facility()` assigns each  destination (in this case, building entrance) to one single origin (a subway station in this case)"
   ]
  },
  {
   "cell_type": "code",
   "execution_count": null,
   "metadata": {},
   "outputs": [],
   "source": [
    "una.closest_facility(\n",
    "    cambridge,\n",
    "    weight='people',\n",
    "    gravity=True,\n",
    "    reach=True,\n",
    "    search_radius=300,\n",
    "    beta=0.001, \n",
    "    save_reach_as='reach_to_closest_people', \n",
    "    save_gravity_as='gravity_to_closest_people', \n",
    "    save_closest_facility_as='closest_subway', \n",
    "    save_closest_facility_distance_as='distance_to_closest_subway',\n",
    ")"
   ]
  },
  {
   "cell_type": "markdown",
   "metadata": {},
   "source": [
    "We can see how destinations are assigned to their closest origin"
   ]
  },
  {
   "cell_type": "code",
   "execution_count": null,
   "metadata": {},
   "outputs": [],
   "source": [
    "cambridge.create_map(\n",
    "    layer_list=[\n",
    "        {\"layer\": 'sidewalks', 'color': [125, 125, 125]},\n",
    "        {\"layer\": 'buildings',\"text\": \"distance_to_closest_subway\",  \"color_by_attribute\": \"closest_subway\", \"color_method\": \"categorical\"},#, 'radius': \"una_reach\"},\n",
    "    ]\n",
    ") "
   ]
  },
  {
   "cell_type": "markdown",
   "metadata": {},
   "source": [
    "When destinations are assigned to their closest facility, we can see how that impacts reach and gravity, as origins are splitting destinations between them and a destination is only reachable by its closest origin. For reach:"
   ]
  },
  {
   "cell_type": "code",
   "execution_count": null,
   "metadata": {},
   "outputs": [],
   "source": [
    "cambridge.create_map(\n",
    "    layer_list=[\n",
    "        {\"layer\": 'sidewalks', 'color': [125, 125, 125]},\n",
    "        {\"layer\": 'subway', \"radius\": \"reach_to_closest_people\", 'text':'reach_to_closest_people', 'color': [255, 0, 0]},\n",
    "    ]\n",
    ")"
   ]
  },
  {
   "cell_type": "markdown",
   "metadata": {},
   "source": [
    "and for gravity: "
   ]
  },
  {
   "cell_type": "code",
   "execution_count": null,
   "metadata": {},
   "outputs": [],
   "source": [
    "cambridge.create_map(\n",
    "    layer_list=[\n",
    "        {\"layer\": 'sidewalks', 'color': [125, 125, 125]},\n",
    "        {\"layer\": 'subway', \"radius\": \"gravity_to_closest_people\", 'text':'gravity_to_closest_people', 'color': [255, 0, 0]},\n",
    "    ]\n",
    ")"
   ]
  },
  {
   "cell_type": "markdown",
   "metadata": {},
   "source": [
    "Compare how reach and gravity vary when using accissibility and closest facility\n",
    "\n",
    "\n",
    "<table border=\"1\" cellpadding=\"2\">\n",
    "<tbody>\n",
    "<tr>\n",
    "<td>Function</td>\n",
    "<td colspan=\"2\"><code>una.accessibility()</code></td>\n",
    "<td colspan=\"2\"><code>una.closest_facility()</code></td>\n",
    "</tr>\n",
    "<tr>\n",
    "<td>Station</td>\n",
    "<td>Reach</td>\n",
    "<td>Graviy</td>\n",
    "<td>Reach</td>\n",
    "<td>Gravity</td>\n",
    "</tr>\n",
    "<tr>\n",
    "<td>Northren</td>\n",
    "<td>2,789.00</td>\n",
    "<td>2.361.54</td>\n",
    "<td>1,265.00</td>\n",
    "<td>1,120.92</td>\n",
    "</tr>\n",
    "<tr>\n",
    "<td>Southren</td>\n",
    "<td>3,017.00</td>\n",
    "<td>2,606.81</td>\n",
    "<td>1,914.00</td>\n",
    "<td>1,716.57</td>\n",
    "</tr>\n",
    "</tbody>\n",
    "</table>\n",
    "\n",
    "\n",
    "## The Reverse: Reach and Gravity of Subway to People\n",
    "To examine the different interpretation of accessibility indices based on what we define as origins and destinations, lets flip our origins from `subway` to `buildings' and destinations from \n",
    "`buildings` to `subway`.\n",
    "\n",
    "In order to do this, we need to first clear up the origins and destination nodes we created earlier, bur we could still use the same neteowk edges (sidewalks) as before, since changing the origins and destinations will not impact the underlying network segments and intersections. Calling the function `clear_nodes()` removes  existing oeigins and destinations. We then need to insert origins and destinations, then create a graph object, just like before."
   ]
  },
  {
   "cell_type": "code",
   "execution_count": null,
   "metadata": {},
   "outputs": [],
   "source": [
    "cambridge.clear_nodes()\n",
    "cambridge.insert_node(layer_name=\"buildings\", label='origin')\n",
    "cambridge.insert_node(layer_name=\"subway\", label='destination')\n",
    "cambridge.create_graph()"
   ]
  },
  {
   "cell_type": "markdown",
   "metadata": {},
   "source": [
    "The reach index shown below, shows how many subway stations could be reached from each building enterance, by walking 300 meters. Most building entrances can access two stations, but buildings on the phrepherey, could only access one of the two stations within a 300 meter walk,"
   ]
  },
  {
   "cell_type": "code",
   "execution_count": null,
   "metadata": {},
   "outputs": [],
   "source": [
    "una.accessibility(\n",
    "    cambridge, \n",
    "    reach=True,\n",
    "    search_radius=300,\n",
    "    save_reach_as='reach_to_subway'\n",
    ")\n",
    "\n",
    "cambridge.create_map(\n",
    "    layer_list=[\n",
    "        {\"layer\": 'sidewalks', 'color': [125, 125, 125]},\n",
    "        {\"layer\": 'buildings', \"color_by_attribute\": \"reach_to_subway\", 'color_method': 'gradient',  'text':'reach_to_subway'}\n",
    "    ]\n",
    ")"
   ]
  },
  {
   "cell_type": "markdown",
   "metadata": {},
   "source": [
    "We oculd add an attriute called `daily_trains` to each subway station, measure and vosialize the reach accissibility metric"
   ]
  },
  {
   "cell_type": "code",
   "execution_count": null,
   "metadata": {},
   "outputs": [],
   "source": [
    "cambridge.layers['subway'].gdf.at[0, 'daily_trains'] = 20\n",
    "cambridge.layers['subway'].gdf.at[1, 'daily_trains'] = 50\n",
    "\n",
    "\n",
    "una.accessibility(\n",
    "    cambridge, \n",
    "    reach=True,\n",
    "    search_radius=300,\n",
    "    weight='daily_trains', \n",
    "    save_reach_as='reach_to_daily_trains'\n",
    ")\n",
    "\n",
    "cambridge.create_map(\n",
    "    layer_list=[\n",
    "        {\"layer\": 'sidewalks', 'color': [125, 125, 125]},\n",
    "        {\"layer\": 'buildings', \"color_by_attribute\": \"reach_to_daily_trains\", 'color_method': 'gradient',  'text':'reach_to_daily_trains'}\n",
    "    ]\n",
    ")"
   ]
  },
  {
   "cell_type": "markdown",
   "metadata": {},
   "source": [
    "We notice some buildings now have access to either 20, 50 or 70 daily trains, depending on what stations they can access within a 300 meter walk. \n",
    "\n",
    "As for the gravity index, the interpretation of what these values mean is sensitive to the `beta`` parameter which could translate to the \"area's willingness to walk\". living in a building with a high gravity index, means that you have more subway options that are close and could easily be reached on foot. A low gravity index, means that you live in a building with fewer subway options that are further out."
   ]
  },
  {
   "cell_type": "code",
   "execution_count": null,
   "metadata": {},
   "outputs": [],
   "source": [
    "una.accessibility(\n",
    "    cambridge, \n",
    "    gravity=True,\n",
    "    search_radius=300,\n",
    "    beta=0.004,\n",
    "    save_gravity_as='gravity_to_subway'\n",
    ")\n",
    "cambridge.create_map(\n",
    "    layer_list=[\n",
    "        {\"layer\": 'sidewalks', 'color': [135, 125, 125]},\n",
    "        {\"layer\": 'buildings', \"color_by_attribute\": \"gravity_to_subway\", 'color_method':'gradient', 'text': 'gravity_to_subway'},\n",
    "    ]\n",
    ")"
   ]
  },
  {
   "cell_type": "markdown",
   "metadata": {},
   "source": [
    "When setting `weight='daily_trains'`, and `gravity=True`, each building is assigned a gravity-adjusted number of daily train based on both, how many stations this building can access within a 300 meter walk, and how far are these stations. "
   ]
  },
  {
   "cell_type": "code",
   "execution_count": null,
   "metadata": {},
   "outputs": [],
   "source": [
    "una.accessibility(\n",
    "    cambridge, \n",
    "    reach=True,\n",
    "    gravity=True,\n",
    "    search_radius=300,\n",
    "    beta=0.004,\n",
    "    weight='daily_trains', \n",
    "    save_gravity_as='gravity_to_daily_trains'\n",
    ")\n",
    "cambridge.create_map(\n",
    "    layer_list=[\n",
    "        {\"layer\": 'sidewalks', 'color': [135, 125, 125]},\n",
    "        {\"layer\": 'buildings', \"color_by_attribute\": \"gravity_to_daily_trains\", 'color_method':'gradient', 'text': 'gravity_to_daily_trains'},\n",
    "    ]\n",
    ")\n"
   ]
  },
  {
   "cell_type": "markdown",
   "metadata": {},
   "source": [
    "## Saving output into files\n",
    "\n",
    "for buildings, we've identified the `closest_subway` and the `distance_to_closest_subway`, and measured `reach_to_subway`, `reach_to_daily_trains`, `gravity_to_subway`, `gravity_to_daily_trains`: "
   ]
  },
  {
   "cell_type": "code",
   "execution_count": null,
   "metadata": {},
   "outputs": [],
   "source": [
    "cambridge['buildings'].gdf.head(5)"
   ]
  },
  {
   "cell_type": "markdown",
   "metadata": {},
   "source": [
    "And for subway stations, we calculated `reach_to_buildings`, `reach_to_students`, `gravity_to_students`, `reach_to_people`, `gravity_to_people`, `reach_to_closest_people`, `gravity_to_closest_people`, and defined a new attribute `daily_trains`"
   ]
  },
  {
   "cell_type": "code",
   "execution_count": null,
   "metadata": {},
   "outputs": [],
   "source": [
    "cambridge['subway'].gdf.head(5)"
   ]
  },
  {
   "cell_type": "markdown",
   "metadata": {},
   "source": [
    "We could save these layers to a few file formats, by using the [Geopandas' `to_file()`](https://geopandas.org/en/stable/docs/reference/api/geopandas.GeoDataFrame.to_file.html) function, which can create multiple file formats. Also, you could use any of [Pandas' output](https://pandas.pydata.org/docs/reference/io.html) functions. Notice that field names/column names in shapefiles cannot exceed 10 characters. "
   ]
  },
  {
   "cell_type": "code",
   "execution_count": null,
   "metadata": {},
   "outputs": [],
   "source": [
    "# Shapefiles\n",
    "cambridge['buildings'].gdf.to_file('building_accessibility.shp')\n",
    "cambridge['subway'].gdf.to_file('subway_accessibility.shp')\n",
    "\n",
    "# GeoJSON\n",
    "cambridge['buildings'].gdf.to_file('building_accessibility.geojson', driver='GeoJSON')\n",
    "cambridge['subway'].gdf.to_file('subway_accessibility.geojson', driver='GeoJSON')\n",
    "\n",
    "# CSV\n",
    "cambridge['buildings'].gdf.to_csv('building_accessibility.csv')\n",
    "cambridge['subway'].gdf.to_csv('subway_accessibility.csv')"
   ]
  }
 ],
 "metadata": {
  "kernelspec": {
   "display_name": "madina_dev",
   "language": "python",
   "name": "python3"
  },
  "language_info": {
   "codemirror_mode": {
    "name": "ipython",
    "version": 3
   },
   "file_extension": ".py",
   "mimetype": "text/x-python",
   "name": "python",
   "nbconvert_exporter": "python",
   "pygments_lexer": "ipython3",
   "version": "3.11.0"
  },
  "orig_nbformat": 4
 },
 "nbformat": 4,
 "nbformat_minor": 2
}
