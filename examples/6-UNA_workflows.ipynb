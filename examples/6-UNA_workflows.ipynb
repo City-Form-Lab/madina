{
 "cells": [
  {
   "cell_type": "markdown",
   "metadata": {},
   "source": [
    "# 6) UNA Workflows\n",
    "In the previous section, we learned how to create the pairing table, and use it to loop over multiple pairs of origins and destinations. In this section, we will learn how to use the standarized UNA workflows to accomplish the same objective with fewer lines of code. We first need to import the workflow module"
   ]
  },
  {
   "cell_type": "code",
   "execution_count": 1,
   "metadata": {},
   "outputs": [],
   "source": [
    "from madina.una.workflows import betweenness_flow_simulation"
   ]
  },
  {
   "cell_type": "markdown",
   "metadata": {},
   "source": [
    "This workflow takes the following inputs:\n",
    "* Data folder that contains the raw data. \n",
    "* Pairing Table similar to the one prepared in the previous section, saved as a csv file. \n",
    "More instructions on preparing the data and creating the pairing table can be found in the documentation:\n",
    "https://madinadocs.readthedocs.io/en/latest/ped_flow.html\n",
    "\n",
    "Once the Pairing table is prepared, and the data is placed in a folder `Cities/Somerville/Data`, the following function can be used to replicate the same process introdiced in the previous section. iterating over pairs in the pairing tabble, loading layers, creating networks, handling origins and destinations, calculating the betweenness, saving the result back to the network file.\n",
    "\n",
    "This function workflow provides additional advantages:\n",
    "* Better logging and reporting of progress\n",
    "* Producing specifically styled maps for each flow"
   ]
  },
  {
   "cell_type": "code",
   "execution_count": null,
   "metadata": {},
   "outputs": [],
   "source": [
    "betweenness_flow_simulation(\n",
    "    city_name=\"Somerville\",\n",
    "    #data_folder=os.path.join('examples', 'Cities', city_name, 'Data'),\n",
    "    #output_folder=os.path.join('examples', 'Cities', city_name, 'Simulations', 'Baseline'),\n",
    "    pairings_file=\"pairings.csv\",       \n",
    "    num_cores=6,\n",
    ")"
   ]
  }
 ],
 "metadata": {
  "kernelspec": {
   "display_name": "madina_dev",
   "language": "python",
   "name": "python3"
  },
  "language_info": {
   "codemirror_mode": {
    "name": "ipython",
    "version": 3
   },
   "file_extension": ".py",
   "mimetype": "text/x-python",
   "name": "python",
   "nbconvert_exporter": "python",
   "pygments_lexer": "ipython3",
   "version": "3.11.0"
  }
 },
 "nbformat": 4,
 "nbformat_minor": 2
}
