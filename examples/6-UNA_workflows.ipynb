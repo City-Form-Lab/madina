{
 "cells": [
  {
   "cell_type": "markdown",
   "metadata": {},
   "source": [
    "# 6) UNA Workflows\n",
    "In the previous section, we learned how to create the pairing table, and use it to loop over multiple pairs of origins and destinations. In this section, we will learn how to use the standarized UNA workflows to accomplish the same objective with fewer lines of code. We first need to import the workflow module"
   ]
  },
  {
   "cell_type": "code",
   "execution_count": 1,
   "metadata": {},
   "outputs": [],
   "source": [
    "from madina.una.workflows import betweenness_flow_simulation"
   ]
  },
  {
   "cell_type": "markdown",
   "metadata": {},
   "source": [
    "This workflow takes the following inputs:\n",
    "* Data folder that contains the raw data. \n",
    "* Pairing Table similar to the one prepared in the previous section, saved as a csv file. \n",
    "More instructions on preparing the data and creating the pairing table can be found in the documentation:\n",
    "https://madinadocs.readthedocs.io/en/latest/ped_flow.html\n",
    "\n",
    "if the network and origin/destination data is placed in a folder `Cities/Somerville/Data`, Once the Pairing table is prepared and saved as \"Pairings.csv\" in the same folder, the following function can be used to replicate the same process introdiced in the previous section. iterating over pairs in the pairing tabble, loading layers, creating networks, handling origins and destinations, calculating the betweenness, saving the result back to the network file.\n",
    "\n",
    "This function workflow provides additional advantages:\n",
    "* Better logging and reporting of progress\n",
    "* Producing specifically styled maps for each flow\n",
    "* concise definition for reproducibility, and for use as part of a repititive scenario analysis process"
   ]
  },
  {
   "cell_type": "code",
   "execution_count": 2,
   "metadata": {},
   "outputs": [
    {
     "name": "stdout",
     "output_type": "stream",
     "text": [
      "total time | seconds elapsed |                flow_name                 | event\n",
      "    0.0000 |        0.000000 |                   ---                    | SIMULATION STARTED: VERSION: 0.0.11, RELEASE DATEL 2023-01-22\n",
      "    0.0060 |        0.005984 |                   ---                    | 3.11.0 | packaged by conda-forge | (main, Oct 25 2022, 06:12:32) [MSC v.1929 64 bit (AMD64)]\n",
      "    0.0080 |        0.001994 |                   ---                    | Dependencies: Geopandas:0.12.2, Shapely:2.0.1, Pandas:1.5.3, Numpy:1.24.2, NetworkX:3.0\n",
      "    6.8309 |        6.822914 |                   ---                    | network FIle Loaded, Projection: EPSG:26986\n",
      "   11.0426 |        4.211742 |  (1/7) Somerville_Bus_Subway_Geometric   | network topology created\n",
      "   11.0976 |        0.054967 |  (1/7) Somerville_Bus_Subway_Geometric   | Bus file bus.geojson Loaded, Projection: EPSG:26986\n",
      "   11.0976 |        0.000000 |  (1/7) Somerville_Bus_Subway_Geometric   | Subway file subway.geojson Loaded, Projection: EPSG:26986\n",
      "   11.1476 |        0.050005 |  (1/7) Somerville_Bus_Subway_Geometric   | Origins and Destinations Inserted.\n",
      "   11.5978 |        0.450206 |  (1/7) Somerville_Bus_Subway_Geometric   | NetworkX Graphs Created.\n",
      "   21.4797 |        9.881858 |  (1/7) Somerville_Bus_Subway_Geometric   | Betweenness estimated.\n",
      "   38.0169 |       16.537202 |  (1/7) Somerville_Bus_Subway_Geometric   | Output saved\n",
      "   42.2162 |        4.199377 |       (2/7) Somerville_Bus_Subway        | network topology created\n",
      "   42.2501 |        0.033829 |       (2/7) Somerville_Bus_Subway        | Origins and Destinations Inserted.\n",
      "   42.6644 |        0.414292 |       (2/7) Somerville_Bus_Subway        | NetworkX Graphs Created.\n",
      "   51.3020 |        8.637614 |       (2/7) Somerville_Bus_Subway        | Betweenness estimated.\n",
      "   65.5159 |       14.213952 |       (2/7) Somerville_Bus_Subway        | Output saved\n",
      "   70.4995 |        4.983544 |      (3/7) Somerville_Homes_Subway       | Homes file homes.geojson Loaded, Projection: EPSG:26986\n",
      "   71.6401 |        1.140607 |      (3/7) Somerville_Homes_Subway       | Origins and Destinations Inserted.\n",
      "   72.0310 |        0.390959 |      (3/7) Somerville_Homes_Subway       | NetworkX Graphs Created.\n",
      "  207.2478 |      135.216721 |      (3/7) Somerville_Homes_Subway       | Betweenness estimated.\n",
      "  227.0323 |       19.784558 |      (3/7) Somerville_Homes_Subway       | Output saved\n",
      "  228.1331 |        1.100783 |       (4/7) Somerville_Jobs_Subway       | Jobs file jobs.geojson Loaded, Projection: EPSG:26986\n",
      "  228.4174 |        0.284289 |       (4/7) Somerville_Jobs_Subway       | Origins and Destinations Inserted.\n",
      "  228.8522 |        0.434836 |       (4/7) Somerville_Jobs_Subway       | NetworkX Graphs Created.\n",
      "  254.8986 |       26.046389 |       (4/7) Somerville_Jobs_Subway       | Betweenness estimated.\n",
      "  270.2565 |       15.357919 |       (4/7) Somerville_Jobs_Subway       | Output saved\n",
      "  270.6332 |        0.376663 |   (5/7) Somerville_Amenities_Amenities   | Amenities file amenities.geojson Loaded, Projection: EPSG:26986\n",
      "  270.8174 |        0.184165 |   (5/7) Somerville_Amenities_Amenities   | Origins and Destinations Inserted.\n",
      "  272.1827 |        1.365311 |   (5/7) Somerville_Amenities_Amenities   | NetworkX Graphs Created.\n",
      "  969.8987 |      697.716012 |   (5/7) Somerville_Amenities_Amenities   | Betweenness estimated.\n",
      "  986.4882 |       16.589558 |   (5/7) Somerville_Amenities_Amenities   | Output saved\n",
      "  986.7664 |        0.278128 |    (6/7) Somerville_CensusBlock_Parks    | CensusBlock file CensusBlock.geojson Loaded, Projection: EPSG:26986\n",
      "  986.7997 |        0.033294 |    (6/7) Somerville_CensusBlock_Parks    | Parks file parks.geojson Loaded, Projection: EPSG:26986\n",
      "  986.9164 |        0.116750 |    (6/7) Somerville_CensusBlock_Parks    | Origins and Destinations Inserted.\n",
      "  987.5488 |        0.632373 |    (6/7) Somerville_CensusBlock_Parks    | NetworkX Graphs Created.\n",
      " 1080.7509 |       93.202108 |    (6/7) Somerville_CensusBlock_Parks    | Betweenness estimated.\n",
      " 1094.9321 |       14.181155 |    (6/7) Somerville_CensusBlock_Parks    | Output saved\n",
      " 1094.9488 |        0.016693 |   (7/7) Somerville_Institutions_Subway   | Institutions file institutions.geojson Loaded, Projection: EPSG:26986\n",
      " 1094.9656 |        0.016883 |   (7/7) Somerville_Institutions_Subway   | Origins and Destinations Inserted.\n",
      " 1095.3324 |        0.366779 |   (7/7) Somerville_Institutions_Subway   | NetworkX Graphs Created.\n",
      " 1104.6044 |        9.271966 |   (7/7) Somerville_Institutions_Subway   | Betweenness estimated.\n",
      " 1119.8157 |       15.211371 |   (7/7) Somerville_Institutions_Subway   | Output saved\n",
      " 1123.5643 |        3.748585 |                   ---                    | Simulation Output saved: ALL DONE\n"
     ]
    }
   ],
   "source": [
    "betweenness_flow_simulation(\n",
    "    city_name=\"Somerville\",\n",
    "    num_cores=8,\n",
    ")"
   ]
  }
 ],
 "metadata": {
  "kernelspec": {
   "display_name": "madina_dev",
   "language": "python",
   "name": "python3"
  },
  "language_info": {
   "codemirror_mode": {
    "name": "ipython",
    "version": 3
   },
   "file_extension": ".py",
   "mimetype": "text/x-python",
   "name": "python",
   "nbconvert_exporter": "python",
   "pygments_lexer": "ipython3",
   "version": "3.11.0"
  }
 },
 "nbformat": 4,
 "nbformat_minor": 2
}
