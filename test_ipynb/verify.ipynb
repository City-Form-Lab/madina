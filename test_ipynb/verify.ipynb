{
 "cells": [
  {
   "cell_type": "code",
   "execution_count": 9,
   "metadata": {},
   "outputs": [],
   "source": [
    "import pandas as pd\n",
    "import geopandas as gpd\n",
    "\n",
    "now = pd.read_csv(\"Cities/Somerville/Simulations/2023_06_22_14_39/betweenness_record.csv\")\n",
    "old = pd.read_csv(\"Cities/Somerville/Simulations/2023_06_22_14_39_old/betweenness_record.csv\")"
   ]
  },
  {
   "cell_type": "code",
   "execution_count": 10,
   "metadata": {},
   "outputs": [
    {
     "data": {
      "text/plain": [
       "0.0"
      ]
     },
     "execution_count": 10,
     "metadata": {},
     "output_type": "execute_result"
    }
   ],
   "source": [
    "now.at[0, 'Geometric_no_turns_unadjusted_weight_B_Bus_Subway']\n",
    "old.at[0, 'Geometric_no_turns_unadjusted_weight_B_Bus_Subway']"
   ]
  },
  {
   "cell_type": "code",
   "execution_count": 11,
   "metadata": {},
   "outputs": [],
   "source": [
    "for i in now.index:\n",
    "    if abs(now.at[i, 'Geometric_no_turns_unadjusted_weight_B_Bus_Subway'] - old.at[i, 'Geometric_no_turns_unadjusted_weight_B_Bus_Subway']) > 1e-6:\n",
    "        print(i, now.at[i, 'Geometric_no_turns_unadjusted_weight_B_Bus_Subway'], old.at[i, 'Geometric_no_turns_unadjusted_weight_B_Bus_Subway'])"
   ]
  },
  {
   "cell_type": "code",
   "execution_count": 12,
   "metadata": {},
   "outputs": [],
   "source": [
    "for i in now.index:\n",
    "    if abs(now.at[i, 'Geometric_no_turns_unadjusted_weight_B_Home_Subway'] - old.at[i, 'Geometric_no_turns_unadjusted_weight_B_Home_Subway']) > 1e-2 * (now.at[i, 'Geometric_no_turns_unadjusted_weight_B_Home_Subway']):\n",
    "        print(i, now.at[i, 'Geometric_no_turns_unadjusted_weight_B_Home_Subway'], old.at[i, 'Geometric_no_turns_unadjusted_weight_B_Home_Subway'])"
   ]
  },
  {
   "cell_type": "code",
   "execution_count": 13,
   "metadata": {},
   "outputs": [],
   "source": [
    "for i in now.index:\n",
    "    if abs(now.at[i, 'Geometric_no_turns_unadjusted_weight_B_Home_Subway'] - old.at[i, 'Geometric_no_turns_unadjusted_weight_B_Home_Subway']) > 1e-2:\n",
    "        print(i, now.at[i, 'Geometric_no_turns_unadjusted_weight_B_Home_Subway'], old.at[i, 'Geometric_no_turns_unadjusted_weight_B_Home_Subway'])"
   ]
  }
 ],
 "metadata": {
  "kernelspec": {
   "display_name": "una",
   "language": "python",
   "name": "python3"
  },
  "language_info": {
   "codemirror_mode": {
    "name": "ipython",
    "version": 3
   },
   "file_extension": ".py",
   "mimetype": "text/x-python",
   "name": "python",
   "nbconvert_exporter": "python",
   "pygments_lexer": "ipython3",
   "version": "3.9.16"
  },
  "orig_nbformat": 4
 },
 "nbformat": 4,
 "nbformat_minor": 2
}
