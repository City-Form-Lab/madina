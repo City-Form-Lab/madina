{
 "cells": [
  {
   "cell_type": "code",
   "execution_count": 24,
   "metadata": {},
   "outputs": [],
   "source": [
    "import pandas as pd\n",
    "import geopandas as gpd\n",
    "\n",
    "now = pd.read_csv(\"Cities/Somerville/Simulations/2023_06_13_17_15/node_gdf.csv\")\n",
    "old = pd.read_csv(\"Cities/Somerville/Simulations/2023_06_13_17_15_old/node_gdf.csv\")"
   ]
  },
  {
   "cell_type": "code",
   "execution_count": 25,
   "metadata": {},
   "outputs": [],
   "source": [
    "import json\n",
    "\n",
    "now_li = [json.loads(str(d).replace('\\'', '\\\"').replace(\"<\", \"\\\"<\").replace(\">\", \">\\\"\")) for d in now['nearest_street_node_distance'] if not pd.isna(d)]\n",
    "old_li = [json.loads(str(d).replace('\\'', '\\\"').replace(\"<\", \"\\\"<\").replace(\">\", \">\\\"\")) for d in old['nearest_street_node_distance'] if not pd.isna(d)]"
   ]
  },
  {
   "cell_type": "code",
   "execution_count": 26,
   "metadata": {},
   "outputs": [],
   "source": [
    "for i in range(len(now_li)):\n",
    "    if now_li[i]['left']['weight'] != old_li[i]['left']['weight'] or now_li[i]['right']['weight'] != old_li[i]['right']['weight']:\n",
    "        print(i)"
   ]
  }
 ],
 "metadata": {
  "kernelspec": {
   "display_name": "una",
   "language": "python",
   "name": "python3"
  },
  "language_info": {
   "codemirror_mode": {
    "name": "ipython",
    "version": 3
   },
   "file_extension": ".py",
   "mimetype": "text/x-python",
   "name": "python",
   "nbconvert_exporter": "python",
   "pygments_lexer": "ipython3",
   "version": "3.9.16"
  },
  "orig_nbformat": 4
 },
 "nbformat": 4,
 "nbformat_minor": 2
}
